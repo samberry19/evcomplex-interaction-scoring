{
 "cells": [
  {
   "cell_type": "code",
   "execution_count": 1,
   "id": "406971a0",
   "metadata": {},
   "outputs": [
    {
     "name": "stdout",
     "output_type": "stream",
     "text": [
      "/Users/sam/Documents/GitHub/evcomplex-scoring\n"
     ]
    }
   ],
   "source": [
    "cd ../"
   ]
  },
  {
   "cell_type": "markdown",
   "id": "aa2b31b5",
   "metadata": {},
   "source": [
    "# Interaction scores with the \"true positive\" model"
   ]
  },
  {
   "cell_type": "markdown",
   "id": "d8f53cb9",
   "metadata": {},
   "source": [
    "In the first notebook, we established that the top couplings terms don't do a good job predicting structural contacts in the AlphaFold model, but if we use the AlphaFold model to select \"true positive\" couplings terms that match structural contacts, we get an interesting bimodal distribution that assigns *P. aeruginosa* much higher than *E. coli*. I ran EVcomplex again on only the top sequences on this metric. Here is analysis from those results:"
   ]
  },
  {
   "cell_type": "code",
   "execution_count": 10,
   "id": "e4b11cdd",
   "metadata": {},
   "outputs": [],
   "source": [
    "import numpy as np\n",
    "import pandas as pd\n",
    "import matplotlib.pyplot as plt\n",
    "import seaborn as sns\n",
    "\n",
    "# \"bioviper\" provides easier functionality for working with Biopython classes\n",
    "from bioviper import msa, pdb\n",
    "from Bio import Phylo\n",
    "\n",
    "# To work directly with EVcouplings DCA models\n",
    "from evcouplings.couplings import CouplingsModel\n",
    "from ete3 import NCBITaxa\n",
    "from sklearn.mixture import GaussianMixture\n",
    "\n",
    "from score import score_sequences\n",
    "\n",
    "# So that saved pdfs have editable text\n",
    "plt.rcParams[\"pdf.fonttype\"] = \"TrueType\"\n",
    "\n",
    "# Import a colormap for tree coloring\n",
    "from matplotlib.cm import coolwarm\n",
    "\n",
    "# This is for the interactive histogram I make - you can comment this out if you don't want to install mpl_interactions\n",
    "from mpl_interactions import interactive_hist"
   ]
  },
  {
   "cell_type": "code",
   "execution_count": 3,
   "id": "0447aca1",
   "metadata": {},
   "outputs": [],
   "source": [
    "tp2_model = CouplingsModel('/Users/sam/Documents/dca_models/murA_lpxC_cheat.model')\n",
    "\n",
    "tp2_couplings = \\\n",
    "    pd.read_csv(\"coupling_scores/true_positive_top_2_CouplingScores_inter.csv\")"
   ]
  },
  {
   "cell_type": "code",
   "execution_count": 4,
   "id": "851daa1b",
   "metadata": {},
   "outputs": [
    {
     "name": "stdout",
     "output_type": "stream",
     "text": [
      "murA alignment has 54940 sequences and 421 positions\n",
      "lpxC alignment has 23634 sequences and 303 positions\n",
      "Concatenated alignment has 11834 sequences and 724 positions\n"
     ]
    }
   ],
   "source": [
    "murA_ali = msa.readAlignment(\"alignments/murA_init_align_1.a2m\")\n",
    "print(\"murA alignment has\", murA_ali.N, \"sequences and\", murA_ali.L, 'positions')\n",
    "\n",
    "lpxC_ali = msa.readAlignment(\"alignments/lpxC_init_align_2.a2m\")\n",
    "print(\"lpxC alignment has\", lpxC_ali.N, \"sequences and\", lpxC_ali.L, 'positions')\n",
    "\n",
    "murA_lpxC_concat_ali = msa.readAlignment(\"alignments/murA_lpxC_concatenated_full.a2m\")\n",
    "print(\"Concatenated alignment has\", murA_lpxC_concat_ali.N, \"sequences and\", \n",
    "                                    murA_lpxC_concat_ali.L, 'positions')\n",
    "\n",
    "concat_ali_ids = murA_lpxC_concat_ali.ids[1:]\n",
    "\n",
    "murA_sequences_in_cat_ali = [murA_ali.ids[0]] + ['_'.join(i.split('_')[:2]) for i in concat_ali_ids]\n",
    "lpxC_sequences_in_cat_ali = [lpxC_ali.ids[0]] + ['_'.join(i.split('_')[2:]) for i in concat_ali_ids]\n",
    "\n",
    "murA_ali = msa.MultipleSequenceAlignment([murA_ali[seq] for seq in murA_sequences_in_cat_ali]).standardize()\n",
    "lpxC_ali = msa.MultipleSequenceAlignment([lpxC_ali[seq] for seq in lpxC_sequences_in_cat_ali]).standardize()"
   ]
  },
  {
   "cell_type": "code",
   "execution_count": 5,
   "id": "fe31c1ed",
   "metadata": {
    "scrolled": true
   },
   "outputs": [
    {
     "name": "stdout",
     "output_type": "stream",
     "text": [
      "Kept 1 out of 1 pairs and 11782 out of 11834 sequences\n",
      "Kept 2 out of 2 pairs and 11669 out of 11834 sequences\n",
      "Kept 3 out of 3 pairs and 11048 out of 11834 sequences\n",
      "Kept 4 out of 4 pairs and 11044 out of 11834 sequences\n",
      "Kept 5 out of 5 pairs and 11004 out of 11834 sequences\n",
      "Kept 6 out of 6 pairs and 11003 out of 11834 sequences\n",
      "Kept 7 out of 7 pairs and 11000 out of 11834 sequences\n",
      "Kept 8 out of 8 pairs and 10997 out of 11834 sequences\n",
      "Kept 9 out of 9 pairs and 10996 out of 11834 sequences\n",
      "Kept 10 out of 10 pairs and 10996 out of 11834 sequences\n",
      "Kept 11 out of 11 pairs and 10994 out of 11834 sequences\n",
      "Kept 12 out of 12 pairs and 10992 out of 11834 sequences\n",
      "Kept 13 out of 13 pairs and 10973 out of 11834 sequences\n",
      "Kept 14 out of 14 pairs and 10972 out of 11834 sequences\n",
      "Kept 15 out of 15 pairs and 10964 out of 11834 sequences\n",
      "Kept 16 out of 16 pairs and 10964 out of 11834 sequences\n",
      "Kept 17 out of 17 pairs and 10964 out of 11834 sequences\n",
      "Kept 18 out of 18 pairs and 10960 out of 11834 sequences\n",
      "Kept 19 out of 19 pairs and 10960 out of 11834 sequences\n",
      "Kept 20 out of 20 pairs and 10959 out of 11834 sequences\n",
      "Kept 21 out of 21 pairs and 10956 out of 11834 sequences\n",
      "Kept 22 out of 22 pairs and 10956 out of 11834 sequences\n",
      "Kept 23 out of 23 pairs and 10955 out of 11834 sequences\n",
      "Kept 24 out of 24 pairs and 10954 out of 11834 sequences\n",
      "Kept 25 out of 25 pairs and 10954 out of 11834 sequences\n",
      "Kept 26 out of 26 pairs and 10953 out of 11834 sequences\n",
      "Kept 27 out of 27 pairs and 10951 out of 11834 sequences\n",
      "Kept 28 out of 28 pairs and 10951 out of 11834 sequences\n",
      "Kept 29 out of 29 pairs and 10950 out of 11834 sequences\n",
      "Kept 30 out of 30 pairs and 10950 out of 11834 sequences\n",
      "Kept 31 out of 31 pairs and 10937 out of 11834 sequences\n",
      "Kept 32 out of 32 pairs and 10937 out of 11834 sequences\n",
      "Kept 33 out of 33 pairs and 10937 out of 11834 sequences\n",
      "Kept 34 out of 34 pairs and 10936 out of 11834 sequences\n",
      "Kept 35 out of 35 pairs and 10869 out of 11834 sequences\n",
      "Kept 36 out of 36 pairs and 10869 out of 11834 sequences\n",
      "Kept 37 out of 37 pairs and 10869 out of 11834 sequences\n",
      "Kept 38 out of 38 pairs and 10869 out of 11834 sequences\n",
      "Kept 39 out of 39 pairs and 10869 out of 11834 sequences\n",
      "Kept 40 out of 40 pairs and 10869 out of 11834 sequences\n",
      "Kept 41 out of 41 pairs and 10869 out of 11834 sequences\n",
      "Kept 42 out of 42 pairs and 10869 out of 11834 sequences\n",
      "Kept 43 out of 43 pairs and 10868 out of 11834 sequences\n",
      "Kept 44 out of 44 pairs and 10866 out of 11834 sequences\n",
      "Kept 45 out of 45 pairs and 10863 out of 11834 sequences\n",
      "Kept 45 out of 46 pairs and 10863 out of 11834 sequences\n",
      "Kept 46 out of 47 pairs and 10863 out of 11834 sequences\n",
      "Kept 47 out of 48 pairs and 10856 out of 11834 sequences\n",
      "Kept 48 out of 49 pairs and 10853 out of 11834 sequences\n"
     ]
    }
   ],
   "source": [
    "Scores = []; Ks = []; Kp = []\n",
    "\n",
    "for i in range(1, 50):\n",
    "    \n",
    "    s, ks, kp = score_sequences(tp2_model, murA_ali, lpxC_ali, tp2_couplings, i)\n",
    "    Scores.append(s)"
   ]
  },
  {
   "cell_type": "code",
   "execution_count": 6,
   "id": "fb4eb0e0",
   "metadata": {
    "scrolled": true
   },
   "outputs": [
    {
     "data": {
      "application/vnd.jupyter.widget-view+json": {
       "model_id": "90ced518c3fd4d31ab16af53e931e798",
       "version_major": 2,
       "version_minor": 0
      },
      "text/plain": [
       "VBox(children=(HBox(children=(IntSlider(value=0, description='n', max=46, readout=False), Label(value='1.00'))…"
      ]
     },
     "metadata": {},
     "output_type": "display_data"
    },
    {
     "data": {
      "text/plain": [
       "(0.0, 2000.0)"
      ]
     },
     "execution_count": 6,
     "metadata": {},
     "output_type": "execute_result"
    },
    {
     "data": {
      "application/vnd.jupyter.widget-view+json": {
       "model_id": "23639fb1b895436c88a26ce945352888",
       "version_major": 2,
       "version_minor": 0
      },
      "image/png": "[encoded data removed]",
      "text/html": [
       "\n",
       "            <div style=\"display: inline-block;\">\n",
       "                <div class=\"jupyter-widgets widget-label\" style=\"text-align: center;\">\n",
       "                    Figure\n",
       "                </div>\n",
       "                <img src='data:image/png;base64,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' width=600.0/>\n",
       "            </div>\n",
       "        "
      ],
      "text/plain": [
       "Canvas(toolbar=Toolbar(toolitems=[('Home', 'Reset original view', 'home', 'home'), ('Back', 'Back to previous …"
      ]
     },
     "metadata": {},
     "output_type": "display_data"
    }
   ],
   "source": [
    "%matplotlib ipympl\n",
    "\n",
    "def scores_indexer(n):\n",
    "    return np.sum(Scores[n],axis=1)\n",
    "\n",
    "fig, ax = plt.subplots(figsize=(6,3))\n",
    "controls = interactive_hist(scores_indexer, n=np.arange(1,48,1), bins=np.arange(-0.3, 1.2, 0.02))\n",
    "\n",
    "plt.xlabel(\"Interaction score\")\n",
    "plt.ylabel(\"Number of sequences\")\n",
    "\n",
    "plt.title(\"Interaction scores for the top N 'true positive' couplings\")\n",
    "\n",
    "plt.ylim((0,2000))"
   ]
  },
  {
   "cell_type": "markdown",
   "id": "e04d36d2",
   "metadata": {},
   "source": [
    "Below is the plot just for using the top N=20 top couplings, which is what we use for the \"interaction scores\" in the paper. This number is a bit arbitrary but our findings are pretty similar for slightly different choices of the number of couplings! (e.g. I think it's best to use >1 or 2 and less than 50 or so)"
   ]
  },
  {
   "cell_type": "code",
   "execution_count": 11,
   "id": "61ff5e13",
   "metadata": {},
   "outputs": [
    {
     "name": "stdout",
     "output_type": "stream",
     "text": [
      "Kept 19 out of 20 pairs and 11577 out of 11834 sequences\n"
     ]
    },
    {
     "data": {
      "text/plain": [
       "Text(0, 0.5, 'Number of sequences')"
      ]
     },
     "execution_count": 11,
     "metadata": {},
     "output_type": "execute_result"
    },
    {
     "data": {
      "image/png": "[encoded data removed]",
      "text/plain": [
       "<Figure size 432x216 with 1 Axes>"
      ]
     },
     "metadata": {
      "needs_background": "light"
     },
     "output_type": "display_data"
    }
   ],
   "source": [
    "%matplotlib inline\n",
    "\n",
    "score20, keep_s_20, keep_p_20 = score_sequences(tp2_model, murA_ali, lpxC_ali, tp2_couplings, 20, p_thresh=0.98)\n",
    "\n",
    "plt.figure(figsize=(6,3))\n",
    "plt.hist(np.sum(score20,axis=1), bins=30)\n",
    "\n",
    "plt.xlabel(\"Interaction score (N=20)\")\n",
    "plt.ylabel(\"Number of sequences\")"
   ]
  },
  {
   "cell_type": "markdown",
   "id": "063d63df",
   "metadata": {},
   "source": [
    "## Visualizing sequences on a phylogenetic tree"
   ]
  },
  {
   "cell_type": "code",
   "execution_count": 39,
   "id": "9fa84c3f",
   "metadata": {},
   "outputs": [],
   "source": [
    "# We're going to use these scores (from the histogram directly above)\n",
    "scores = np.sum(score20, axis=1)\n",
    "\n",
    "# Load in the csv with the annotations (including taxonomy) for each sequence\n",
    "murA_annotation = pd.read_csv('annotation/murA_annotation.csv', index_col='id')\n",
    "\n",
    "# Load in a tree built on the concatenated sequences \n",
    "murA_lpxC_concat_tree = Phylo.read('trees/murA_lpxC_concatenated_tree_fasttree.nwk', 'newick')"
   ]
  },
  {
   "cell_type": "markdown",
   "id": "3608dad3",
   "metadata": {},
   "source": [
    "Here is the actual code to color the tree. Note that I've since been working on a new Bioviper .Tree object that should make coloring really simple and not nearly this ugly but this is the code I used to color the tree for the paper. It's also kind of slow. Maybe in the future I'll add a reference to how to do it more easily with Bioviper."
   ]
  },
  {
   "cell_type": "code",
   "execution_count": 41,
   "id": "1d2d681c",
   "metadata": {},
   "outputs": [],
   "source": [
    "is_scored = np.where(keep_s_20)[0]\n",
    "\n",
    "for term in murA_lpxC_concat_tree.get_terminals():\n",
    "    \n",
    "    ali_ind = murA_lpxC_concat_ali.get_index(term.name)\n",
    "    \n",
    "    if ali_ind in is_scored:\n",
    "        \n",
    "        term_score = scores[np.where(is_scored==ali_ind)[0][0]]\n",
    "        \n",
    "        # Convert to color through coolwarm colormap\n",
    "        #   (with some slightly arbitrary scaling to get a good color range)\n",
    "        color = coolwarm(np.min([(term_score + 0.25)/1,0.999], axis=0))\n",
    "        \n",
    "        # Store the actual RGB value here for later use\n",
    "        term.c = color\n",
    "        \n",
    "        # Store the BranchColor in the .color attribute\n",
    "        term.color = Phylo.PhyloXML.BranchColor(int(color[0]*255), int(color[1]*255), int(color[2]*255))\n",
    "\n",
    "        # Add tax info\n",
    "        if term.name != \"Q9HVW7_P47205/1-724\":\n",
    "            tax = str(murA_annotation.loc['_'.join(term.name.split('_')[:2])]['Tax'])\n",
    "            taxid = tax.split(\"TaxID=\")[1]\n",
    "            term.name = taxid\n",
    "        \n",
    "        # The reference sequence is different from the others in the alignment, add its proper\n",
    "        #   (P. aeruginosa) tax id separately\n",
    "        else:\n",
    "            term.name = '287'\n",
    "    \n",
    "    else:\n",
    "        term.color = int(coolwarm(0.5)[0]*255*0.5), int(coolwarm(0.5)[1]*255*0.5), int(coolwarm(0.5)[2]*255*0.5)\n",
    "        \n",
    "# Here's the wacky part\n",
    "# Recolor internal nodes as the average of their downstream leaves so that the tree looks nice\n",
    "# Otherwise it looks like shit, I promise\n",
    "for nonterm in murA_lpxC_concat_tree.get_nonterminals():\n",
    "    \n",
    "    leaf_list = []\n",
    "    for term in nonterm.get_terminals():\n",
    "        \n",
    "        try:\n",
    "            leaf_list.append(term.c)\n",
    "        except:\n",
    "            # Don't need to do anything - I'll just ignore ones without a .c color from above\n",
    "            #print(term.name)\n",
    "            None\n",
    "        \n",
    "    if len(leaf_list) > 0:\n",
    "        color = np.nanmean(leaf_list, axis=0)\n",
    "    \n",
    "    else:\n",
    "        # Make it neutral colored if no leaves have a color\n",
    "        color = coolwarm(0.5)\n",
    "    \n",
    "    nonterm.color = Phylo.PhyloXML.BranchColor(int(color[0]*255), int(color[1]*255), int(color[2]*255))"
   ]
  },
  {
   "cell_type": "code",
   "execution_count": 42,
   "id": "18f11137",
   "metadata": {},
   "outputs": [
    {
     "data": {
      "text/plain": [
       "1"
      ]
     },
     "execution_count": 42,
     "metadata": {},
     "output_type": "execute_result"
    }
   ],
   "source": [
    "# Save as a PhyloXML file to store color information\n",
    "Phylo.write(murA_lpxC_concat_tree, \"trees/murA_lpxC_concat_ali_colored.xml\", \"phyloxml\")"
   ]
  },
  {
   "cell_type": "markdown",
   "id": "71ac75df",
   "metadata": {},
   "source": [
    "## Mapping sequences to their respective class"
   ]
  },
  {
   "cell_type": "markdown",
   "id": "4bf78f7a",
   "metadata": {},
   "source": [
    "We want to be able to identify which sequences come from particular classes - in this case, we're especially interested in finding which ones come from delta- and alphaproteobacteria."
   ]
  },
  {
   "cell_type": "code",
   "execution_count": 8,
   "id": "94206c35",
   "metadata": {},
   "outputs": [],
   "source": [
    "ncbi = NCBITaxa()\n",
    "\n",
    "def loadTaxonomyLineage(tax_ids):\n",
    "    \n",
    "    '''\n",
    "    Given a list of TaxIDs, load the full taxonomic information for each sequence.\n",
    "    \n",
    "    Adapted from code written originally by Nikki Thadani.\n",
    "    '''\n",
    "    \n",
    "    tax_ranks = ['superkingdom','phylum','genus','class','subphylum','family','order', 'species']\n",
    "    \n",
    "    taxs = []\n",
    "\n",
    "    for tax_id in tax_ids:\n",
    "        try:\n",
    "            lineage = ncbi.get_lineage(int(tax_id))\n",
    "            name_dict = ncbi.get_taxid_translator(lineage)\n",
    "            rank_dict = ncbi.get_rank(lineage)\n",
    "            lineage_dict = dict((rank_dict[i],name_dict[i]) for i in lineage)\n",
    "    \n",
    "            lineage_dict = {k:lineage_dict[k] for k in tax_ranks if k in lineage_dict}\n",
    "        \n",
    "            lineage_dict['tax_ID'] = tax_id\n",
    "            \n",
    "            taxs.append(lineage_dict)\n",
    "            \n",
    "        except ValueError as e:\n",
    "            print('Warning: {0}'.format(str(e)))\n",
    "            \n",
    "    return pd.DataFrame(taxs)"
   ]
  },
  {
   "cell_type": "code",
   "execution_count": 9,
   "id": "598a4ad6",
   "metadata": {},
   "outputs": [
    {
     "data": {
      "text/html": [
       "<div>\n",
       "<style scoped>\n",
       "    .dataframe tbody tr th:only-of-type {\n",
       "        vertical-align: middle;\n",
       "    }\n",
       "\n",
       "    .dataframe tbody tr th {\n",
       "        vertical-align: top;\n",
       "    }\n",
       "\n",
       "    .dataframe thead th {\n",
       "        text-align: right;\n",
       "    }\n",
       "</style>\n",
       "<table border=\"1\" class=\"dataframe\">\n",
       "  <thead>\n",
       "    <tr style=\"text-align: right;\">\n",
       "      <th></th>\n",
       "      <th>superkingdom</th>\n",
       "      <th>phylum</th>\n",
       "      <th>species</th>\n",
       "      <th>tax_ID</th>\n",
       "      <th>genus</th>\n",
       "      <th>class</th>\n",
       "      <th>family</th>\n",
       "      <th>order</th>\n",
       "      <th>subphylum</th>\n",
       "    </tr>\n",
       "  </thead>\n",
       "  <tbody>\n",
       "    <tr>\n",
       "      <th>0</th>\n",
       "      <td>Bacteria</td>\n",
       "      <td>Firmicutes</td>\n",
       "      <td>Firmicutes bacterium</td>\n",
       "      <td>1879010</td>\n",
       "      <td>NaN</td>\n",
       "      <td>NaN</td>\n",
       "      <td>NaN</td>\n",
       "      <td>NaN</td>\n",
       "      <td>NaN</td>\n",
       "    </tr>\n",
       "    <tr>\n",
       "      <th>1</th>\n",
       "      <td>Bacteria</td>\n",
       "      <td>Firmicutes</td>\n",
       "      <td>Caminicella sporogenes</td>\n",
       "      <td>1121266</td>\n",
       "      <td>Caminicella</td>\n",
       "      <td>Clostridia</td>\n",
       "      <td>Clostridiaceae</td>\n",
       "      <td>Eubacteriales</td>\n",
       "      <td>NaN</td>\n",
       "    </tr>\n",
       "    <tr>\n",
       "      <th>2</th>\n",
       "      <td>Bacteria</td>\n",
       "      <td>Firmicutes</td>\n",
       "      <td>Paramaledivibacter caminithermalis</td>\n",
       "      <td>1121301</td>\n",
       "      <td>Paramaledivibacter</td>\n",
       "      <td>Clostridia</td>\n",
       "      <td>Clostridiaceae</td>\n",
       "      <td>Eubacteriales</td>\n",
       "      <td>NaN</td>\n",
       "    </tr>\n",
       "    <tr>\n",
       "      <th>3</th>\n",
       "      <td>Bacteria</td>\n",
       "      <td>Firmicutes</td>\n",
       "      <td>Desulfotomaculum nigrificans</td>\n",
       "      <td>1565</td>\n",
       "      <td>Desulfotomaculum</td>\n",
       "      <td>Clostridia</td>\n",
       "      <td>Desulfotomaculaceae</td>\n",
       "      <td>Eubacteriales</td>\n",
       "      <td>NaN</td>\n",
       "    </tr>\n",
       "    <tr>\n",
       "      <th>4</th>\n",
       "      <td>Bacteria</td>\n",
       "      <td>Firmicutes</td>\n",
       "      <td>Caloramator mitchellensis</td>\n",
       "      <td>908809</td>\n",
       "      <td>Caloramator</td>\n",
       "      <td>Clostridia</td>\n",
       "      <td>Clostridiaceae</td>\n",
       "      <td>Eubacteriales</td>\n",
       "      <td>NaN</td>\n",
       "    </tr>\n",
       "    <tr>\n",
       "      <th>...</th>\n",
       "      <td>...</td>\n",
       "      <td>...</td>\n",
       "      <td>...</td>\n",
       "      <td>...</td>\n",
       "      <td>...</td>\n",
       "      <td>...</td>\n",
       "      <td>...</td>\n",
       "      <td>...</td>\n",
       "      <td>...</td>\n",
       "    </tr>\n",
       "    <tr>\n",
       "      <th>54002</th>\n",
       "      <td>Bacteria</td>\n",
       "      <td>Candidatus Woesebacteria</td>\n",
       "      <td>Candidatus Woesebacteria bacterium CG_4_10_14_...</td>\n",
       "      <td>1975054</td>\n",
       "      <td>NaN</td>\n",
       "      <td>NaN</td>\n",
       "      <td>NaN</td>\n",
       "      <td>NaN</td>\n",
       "      <td>NaN</td>\n",
       "    </tr>\n",
       "    <tr>\n",
       "      <th>54003</th>\n",
       "      <td>Bacteria</td>\n",
       "      <td>Candidatus Saccharibacteria</td>\n",
       "      <td>Candidatus Saccharimonas sp.</td>\n",
       "      <td>1917697</td>\n",
       "      <td>Candidatus Saccharimonas</td>\n",
       "      <td>Candidatus Saccharimonadia</td>\n",
       "      <td>Candidatus Saccharimonadaceae</td>\n",
       "      <td>Candidatus Saccharimonadales</td>\n",
       "      <td>NaN</td>\n",
       "    </tr>\n",
       "    <tr>\n",
       "      <th>54004</th>\n",
       "      <td>Bacteria</td>\n",
       "      <td>Chloroflexi</td>\n",
       "      <td>Caldilineae bacterium</td>\n",
       "      <td>2420332</td>\n",
       "      <td>NaN</td>\n",
       "      <td>Caldilineae</td>\n",
       "      <td>NaN</td>\n",
       "      <td>NaN</td>\n",
       "      <td>NaN</td>\n",
       "    </tr>\n",
       "    <tr>\n",
       "      <th>54005</th>\n",
       "      <td>Bacteria</td>\n",
       "      <td>Proteobacteria</td>\n",
       "      <td>Sphingomonas sp. LH128</td>\n",
       "      <td>473781</td>\n",
       "      <td>Sphingomonas</td>\n",
       "      <td>Alphaproteobacteria</td>\n",
       "      <td>Sphingomonadaceae</td>\n",
       "      <td>Sphingomonadales</td>\n",
       "      <td>NaN</td>\n",
       "    </tr>\n",
       "    <tr>\n",
       "      <th>54006</th>\n",
       "      <td>NaN</td>\n",
       "      <td>NaN</td>\n",
       "      <td>marine sediment metagenome</td>\n",
       "      <td>412755</td>\n",
       "      <td>NaN</td>\n",
       "      <td>NaN</td>\n",
       "      <td>NaN</td>\n",
       "      <td>NaN</td>\n",
       "      <td>NaN</td>\n",
       "    </tr>\n",
       "  </tbody>\n",
       "</table>\n",
       "<p>54007 rows × 9 columns</p>\n",
       "</div>"
      ],
      "text/plain": [
       "      superkingdom                       phylum  \\\n",
       "0         Bacteria                   Firmicutes   \n",
       "1         Bacteria                   Firmicutes   \n",
       "2         Bacteria                   Firmicutes   \n",
       "3         Bacteria                   Firmicutes   \n",
       "4         Bacteria                   Firmicutes   \n",
       "...            ...                          ...   \n",
       "54002     Bacteria     Candidatus Woesebacteria   \n",
       "54003     Bacteria  Candidatus Saccharibacteria   \n",
       "54004     Bacteria                  Chloroflexi   \n",
       "54005     Bacteria               Proteobacteria   \n",
       "54006          NaN                          NaN   \n",
       "\n",
       "                                                 species   tax_ID  \\\n",
       "0                                   Firmicutes bacterium  1879010   \n",
       "1                                 Caminicella sporogenes  1121266   \n",
       "2                     Paramaledivibacter caminithermalis  1121301   \n",
       "3                           Desulfotomaculum nigrificans     1565   \n",
       "4                              Caloramator mitchellensis   908809   \n",
       "...                                                  ...      ...   \n",
       "54002  Candidatus Woesebacteria bacterium CG_4_10_14_...  1975054   \n",
       "54003                       Candidatus Saccharimonas sp.  1917697   \n",
       "54004                              Caldilineae bacterium  2420332   \n",
       "54005                             Sphingomonas sp. LH128   473781   \n",
       "54006                         marine sediment metagenome   412755   \n",
       "\n",
       "                          genus                       class  \\\n",
       "0                           NaN                         NaN   \n",
       "1                   Caminicella                  Clostridia   \n",
       "2            Paramaledivibacter                  Clostridia   \n",
       "3              Desulfotomaculum                  Clostridia   \n",
       "4                   Caloramator                  Clostridia   \n",
       "...                         ...                         ...   \n",
       "54002                       NaN                         NaN   \n",
       "54003  Candidatus Saccharimonas  Candidatus Saccharimonadia   \n",
       "54004                       NaN                 Caldilineae   \n",
       "54005              Sphingomonas         Alphaproteobacteria   \n",
       "54006                       NaN                         NaN   \n",
       "\n",
       "                              family                         order subphylum  \n",
       "0                                NaN                           NaN       NaN  \n",
       "1                     Clostridiaceae                 Eubacteriales       NaN  \n",
       "2                     Clostridiaceae                 Eubacteriales       NaN  \n",
       "3                Desulfotomaculaceae                 Eubacteriales       NaN  \n",
       "4                     Clostridiaceae                 Eubacteriales       NaN  \n",
       "...                              ...                           ...       ...  \n",
       "54002                            NaN                           NaN       NaN  \n",
       "54003  Candidatus Saccharimonadaceae  Candidatus Saccharimonadales       NaN  \n",
       "54004                            NaN                           NaN       NaN  \n",
       "54005              Sphingomonadaceae              Sphingomonadales       NaN  \n",
       "54006                            NaN                           NaN       NaN  \n",
       "\n",
       "[54007 rows x 9 columns]"
      ]
     },
     "execution_count": 9,
     "metadata": {},
     "output_type": "execute_result"
    },
    {
     "data": {
      "text/html": [
       "<div>\n",
       "<style scoped>\n",
       "    .dataframe tbody tr th:only-of-type {\n",
       "        vertical-align: middle;\n",
       "    }\n",
       "\n",
       "    .dataframe tbody tr th {\n",
       "        vertical-align: top;\n",
       "    }\n",
       "\n",
       "    .dataframe thead th {\n",
       "        text-align: right;\n",
       "    }\n",
       "</style>\n",
       "<table border=\"1\" class=\"dataframe\">\n",
       "  <thead>\n",
       "    <tr style=\"text-align: right;\">\n",
       "      <th></th>\n",
       "      <th>superkingdom</th>\n",
       "      <th>phylum</th>\n",
       "      <th>species</th>\n",
       "      <th>tax_ID</th>\n",
       "      <th>genus</th>\n",
       "      <th>class</th>\n",
       "      <th>family</th>\n",
       "      <th>order</th>\n",
       "      <th>subphylum</th>\n",
       "    </tr>\n",
       "  </thead>\n",
       "  <tbody>\n",
       "    <tr>\n",
       "      <th>0</th>\n",
       "      <td>Bacteria</td>\n",
       "      <td>Firmicutes</td>\n",
       "      <td>Firmicutes bacterium</td>\n",
       "      <td>1879010</td>\n",
       "      <td>NaN</td>\n",
       "      <td>NaN</td>\n",
       "      <td>NaN</td>\n",
       "      <td>NaN</td>\n",
       "      <td>NaN</td>\n",
       "    </tr>\n",
       "    <tr>\n",
       "      <th>1</th>\n",
       "      <td>Bacteria</td>\n",
       "      <td>Firmicutes</td>\n",
       "      <td>Caminicella sporogenes</td>\n",
       "      <td>1121266</td>\n",
       "      <td>Caminicella</td>\n",
       "      <td>Clostridia</td>\n",
       "      <td>Clostridiaceae</td>\n",
       "      <td>Eubacteriales</td>\n",
       "      <td>NaN</td>\n",
       "    </tr>\n",
       "    <tr>\n",
       "      <th>2</th>\n",
       "      <td>Bacteria</td>\n",
       "      <td>Firmicutes</td>\n",
       "      <td>Paramaledivibacter caminithermalis</td>\n",
       "      <td>1121301</td>\n",
       "      <td>Paramaledivibacter</td>\n",
       "      <td>Clostridia</td>\n",
       "      <td>Clostridiaceae</td>\n",
       "      <td>Eubacteriales</td>\n",
       "      <td>NaN</td>\n",
       "    </tr>\n",
       "    <tr>\n",
       "      <th>3</th>\n",
       "      <td>Bacteria</td>\n",
       "      <td>Firmicutes</td>\n",
       "      <td>Desulfotomaculum nigrificans</td>\n",
       "      <td>1565</td>\n",
       "      <td>Desulfotomaculum</td>\n",
       "      <td>Clostridia</td>\n",
       "      <td>Desulfotomaculaceae</td>\n",
       "      <td>Eubacteriales</td>\n",
       "      <td>NaN</td>\n",
       "    </tr>\n",
       "    <tr>\n",
       "      <th>4</th>\n",
       "      <td>Bacteria</td>\n",
       "      <td>Firmicutes</td>\n",
       "      <td>Caloramator mitchellensis</td>\n",
       "      <td>908809</td>\n",
       "      <td>Caloramator</td>\n",
       "      <td>Clostridia</td>\n",
       "      <td>Clostridiaceae</td>\n",
       "      <td>Eubacteriales</td>\n",
       "      <td>NaN</td>\n",
       "    </tr>\n",
       "    <tr>\n",
       "      <th>...</th>\n",
       "      <td>...</td>\n",
       "      <td>...</td>\n",
       "      <td>...</td>\n",
       "      <td>...</td>\n",
       "      <td>...</td>\n",
       "      <td>...</td>\n",
       "      <td>...</td>\n",
       "      <td>...</td>\n",
       "      <td>...</td>\n",
       "    </tr>\n",
       "    <tr>\n",
       "      <th>54002</th>\n",
       "      <td>Bacteria</td>\n",
       "      <td>Candidatus Woesebacteria</td>\n",
       "      <td>Candidatus Woesebacteria bacterium CG_4_10_14_...</td>\n",
       "      <td>1975054</td>\n",
       "      <td>NaN</td>\n",
       "      <td>NaN</td>\n",
       "      <td>NaN</td>\n",
       "      <td>NaN</td>\n",
       "      <td>NaN</td>\n",
       "    </tr>\n",
       "    <tr>\n",
       "      <th>54003</th>\n",
       "      <td>Bacteria</td>\n",
       "      <td>Candidatus Saccharibacteria</td>\n",
       "      <td>Candidatus Saccharimonas sp.</td>\n",
       "      <td>1917697</td>\n",
       "      <td>Candidatus Saccharimonas</td>\n",
       "      <td>Candidatus Saccharimonadia</td>\n",
       "      <td>Candidatus Saccharimonadaceae</td>\n",
       "      <td>Candidatus Saccharimonadales</td>\n",
       "      <td>NaN</td>\n",
       "    </tr>\n",
       "    <tr>\n",
       "      <th>54004</th>\n",
       "      <td>Bacteria</td>\n",
       "      <td>Chloroflexi</td>\n",
       "      <td>Caldilineae bacterium</td>\n",
       "      <td>2420332</td>\n",
       "      <td>NaN</td>\n",
       "      <td>Caldilineae</td>\n",
       "      <td>NaN</td>\n",
       "      <td>NaN</td>\n",
       "      <td>NaN</td>\n",
       "    </tr>\n",
       "    <tr>\n",
       "      <th>54005</th>\n",
       "      <td>Bacteria</td>\n",
       "      <td>Proteobacteria</td>\n",
       "      <td>Sphingomonas sp. LH128</td>\n",
       "      <td>473781</td>\n",
       "      <td>Sphingomonas</td>\n",
       "      <td>Alphaproteobacteria</td>\n",
       "      <td>Sphingomonadaceae</td>\n",
       "      <td>Sphingomonadales</td>\n",
       "      <td>NaN</td>\n",
       "    </tr>\n",
       "    <tr>\n",
       "      <th>54006</th>\n",
       "      <td>NaN</td>\n",
       "      <td>NaN</td>\n",
       "      <td>marine sediment metagenome</td>\n",
       "      <td>412755</td>\n",
       "      <td>NaN</td>\n",
       "      <td>NaN</td>\n",
       "      <td>NaN</td>\n",
       "      <td>NaN</td>\n",
       "      <td>NaN</td>\n",
       "    </tr>\n",
       "  </tbody>\n",
       "</table>\n",
       "<p>54007 rows × 9 columns</p>\n",
       "</div>"
      ],
      "text/plain": [
       "      superkingdom                       phylum  \\\n",
       "0         Bacteria                   Firmicutes   \n",
       "1         Bacteria                   Firmicutes   \n",
       "2         Bacteria                   Firmicutes   \n",
       "3         Bacteria                   Firmicutes   \n",
       "4         Bacteria                   Firmicutes   \n",
       "...            ...                          ...   \n",
       "54002     Bacteria     Candidatus Woesebacteria   \n",
       "54003     Bacteria  Candidatus Saccharibacteria   \n",
       "54004     Bacteria                  Chloroflexi   \n",
       "54005     Bacteria               Proteobacteria   \n",
       "54006          NaN                          NaN   \n",
       "\n",
       "                                                 species   tax_ID  \\\n",
       "0                                   Firmicutes bacterium  1879010   \n",
       "1                                 Caminicella sporogenes  1121266   \n",
       "2                     Paramaledivibacter caminithermalis  1121301   \n",
       "3                           Desulfotomaculum nigrificans     1565   \n",
       "4                              Caloramator mitchellensis   908809   \n",
       "...                                                  ...      ...   \n",
       "54002  Candidatus Woesebacteria bacterium CG_4_10_14_...  1975054   \n",
       "54003                       Candidatus Saccharimonas sp.  1917697   \n",
       "54004                              Caldilineae bacterium  2420332   \n",
       "54005                             Sphingomonas sp. LH128   473781   \n",
       "54006                         marine sediment metagenome   412755   \n",
       "\n",
       "                          genus                       class  \\\n",
       "0                           NaN                         NaN   \n",
       "1                   Caminicella                  Clostridia   \n",
       "2            Paramaledivibacter                  Clostridia   \n",
       "3              Desulfotomaculum                  Clostridia   \n",
       "4                   Caloramator                  Clostridia   \n",
       "...                         ...                         ...   \n",
       "54002                       NaN                         NaN   \n",
       "54003  Candidatus Saccharimonas  Candidatus Saccharimonadia   \n",
       "54004                       NaN                 Caldilineae   \n",
       "54005              Sphingomonas         Alphaproteobacteria   \n",
       "54006                       NaN                         NaN   \n",
       "\n",
       "                              family                         order subphylum  \n",
       "0                                NaN                           NaN       NaN  \n",
       "1                     Clostridiaceae                 Eubacteriales       NaN  \n",
       "2                     Clostridiaceae                 Eubacteriales       NaN  \n",
       "3                Desulfotomaculaceae                 Eubacteriales       NaN  \n",
       "4                     Clostridiaceae                 Eubacteriales       NaN  \n",
       "...                              ...                           ...       ...  \n",
       "54002                            NaN                           NaN       NaN  \n",
       "54003  Candidatus Saccharimonadaceae  Candidatus Saccharimonadales       NaN  \n",
       "54004                            NaN                           NaN       NaN  \n",
       "54005              Sphingomonadaceae              Sphingomonadales       NaN  \n",
       "54006                            NaN                           NaN       NaN  \n",
       "\n",
       "[54007 rows x 9 columns]"
      ]
     },
     "execution_count": 9,
     "metadata": {},
     "output_type": "execute_result"
    }
   ],
   "source": [
    "# Extract only the numeric taxid from each sequence\n",
    "taxids = [int(i.split(\"TaxID=\")[1]) for i in list(murA_annotation[\"Tax\"])[1:] if '/' not in i]\n",
    "\n",
    "# Load the full lineage associated with those taxonomic identifiers\n",
    "taxid_mapper = loadTaxonomyLineage(taxids)\n",
    "\n",
    "# Display\n",
    "taxid_mapper"
   ]
  },
  {
   "cell_type": "markdown",
   "id": "450f2011",
   "metadata": {},
   "source": [
    "Identify the class for each sequence that was scored:"
   ]
  },
  {
   "cell_type": "code",
   "execution_count": 10,
   "id": "4f53d2a9",
   "metadata": {
    "scrolled": true
   },
   "outputs": [],
   "source": [
    "classes = []\n",
    "\n",
    "for i in murA_annotation.loc[murA_ali.ids[keep_s_20]][\"Tax\"][1:]:\n",
    "    x = i.split(\"TaxID=\")[1]\n",
    "    try:\n",
    "        x = int(x)\n",
    "        y = list(taxid_mapper.loc[taxid_mapper[\"tax_ID\"]==x][\"class\"])\n",
    "        classes.append(y[0])\n",
    "        \n",
    "    except:\n",
    "        classes.append('nan')"
   ]
  },
  {
   "cell_type": "code",
   "execution_count": 11,
   "id": "4628efc6",
   "metadata": {},
   "outputs": [
    {
     "data": {
      "text/html": [
       "<div>\n",
       "<style scoped>\n",
       "    .dataframe tbody tr th:only-of-type {\n",
       "        vertical-align: middle;\n",
       "    }\n",
       "\n",
       "    .dataframe tbody tr th {\n",
       "        vertical-align: top;\n",
       "    }\n",
       "\n",
       "    .dataframe thead th {\n",
       "        text-align: right;\n",
       "    }\n",
       "</style>\n",
       "<table border=\"1\" class=\"dataframe\">\n",
       "  <thead>\n",
       "    <tr style=\"text-align: right;\">\n",
       "      <th></th>\n",
       "      <th>Counts</th>\n",
       "    </tr>\n",
       "    <tr>\n",
       "      <th>Class</th>\n",
       "      <th></th>\n",
       "    </tr>\n",
       "  </thead>\n",
       "  <tbody>\n",
       "    <tr>\n",
       "      <th>Alphaproteobacteria</th>\n",
       "      <td>2459</td>\n",
       "    </tr>\n",
       "    <tr>\n",
       "      <th>Bacteroidia</th>\n",
       "      <td>435</td>\n",
       "    </tr>\n",
       "    <tr>\n",
       "      <th>Betaproteobacteria</th>\n",
       "      <td>1470</td>\n",
       "    </tr>\n",
       "    <tr>\n",
       "      <th>Chitinophagia</th>\n",
       "      <td>130</td>\n",
       "    </tr>\n",
       "    <tr>\n",
       "      <th>Cytophagia</th>\n",
       "      <td>325</td>\n",
       "    </tr>\n",
       "    <tr>\n",
       "      <th>Deltaproteobacteria</th>\n",
       "      <td>321</td>\n",
       "    </tr>\n",
       "    <tr>\n",
       "      <th>Epsilonproteobacteria</th>\n",
       "      <td>367</td>\n",
       "    </tr>\n",
       "    <tr>\n",
       "      <th>Flavobacteriia</th>\n",
       "      <td>1005</td>\n",
       "    </tr>\n",
       "    <tr>\n",
       "      <th>Fusobacteriia</th>\n",
       "      <td>55</td>\n",
       "    </tr>\n",
       "    <tr>\n",
       "      <th>Gammaproteobacteria</th>\n",
       "      <td>2781</td>\n",
       "    </tr>\n",
       "    <tr>\n",
       "      <th>Magnoliopsida</th>\n",
       "      <td>56</td>\n",
       "    </tr>\n",
       "    <tr>\n",
       "      <th>Negativicutes</th>\n",
       "      <td>130</td>\n",
       "    </tr>\n",
       "    <tr>\n",
       "      <th>Sphingobacteriia</th>\n",
       "      <td>230</td>\n",
       "    </tr>\n",
       "    <tr>\n",
       "      <th>Spirochaetia</th>\n",
       "      <td>82</td>\n",
       "    </tr>\n",
       "    <tr>\n",
       "      <th>nan</th>\n",
       "      <td>1154</td>\n",
       "    </tr>\n",
       "  </tbody>\n",
       "</table>\n",
       "</div>"
      ],
      "text/plain": [
       "                       Counts\n",
       "Class                        \n",
       "Alphaproteobacteria      2459\n",
       "Bacteroidia               435\n",
       "Betaproteobacteria       1470\n",
       "Chitinophagia             130\n",
       "Cytophagia                325\n",
       "Deltaproteobacteria       321\n",
       "Epsilonproteobacteria     367\n",
       "Flavobacteriia           1005\n",
       "Fusobacteriia              55\n",
       "Gammaproteobacteria      2781\n",
       "Magnoliopsida              56\n",
       "Negativicutes             130\n",
       "Sphingobacteriia          230\n",
       "Spirochaetia               82\n",
       "nan                      1154"
      ]
     },
     "execution_count": 11,
     "metadata": {},
     "output_type": "execute_result"
    },
    {
     "data": {
      "text/html": [
       "<div>\n",
       "<style scoped>\n",
       "    .dataframe tbody tr th:only-of-type {\n",
       "        vertical-align: middle;\n",
       "    }\n",
       "\n",
       "    .dataframe tbody tr th {\n",
       "        vertical-align: top;\n",
       "    }\n",
       "\n",
       "    .dataframe thead th {\n",
       "        text-align: right;\n",
       "    }\n",
       "</style>\n",
       "<table border=\"1\" class=\"dataframe\">\n",
       "  <thead>\n",
       "    <tr style=\"text-align: right;\">\n",
       "      <th></th>\n",
       "      <th>Counts</th>\n",
       "    </tr>\n",
       "    <tr>\n",
       "      <th>Class</th>\n",
       "      <th></th>\n",
       "    </tr>\n",
       "  </thead>\n",
       "  <tbody>\n",
       "    <tr>\n",
       "      <th>Alphaproteobacteria</th>\n",
       "      <td>2459</td>\n",
       "    </tr>\n",
       "    <tr>\n",
       "      <th>Bacteroidia</th>\n",
       "      <td>435</td>\n",
       "    </tr>\n",
       "    <tr>\n",
       "      <th>Betaproteobacteria</th>\n",
       "      <td>1470</td>\n",
       "    </tr>\n",
       "    <tr>\n",
       "      <th>Chitinophagia</th>\n",
       "      <td>130</td>\n",
       "    </tr>\n",
       "    <tr>\n",
       "      <th>Cytophagia</th>\n",
       "      <td>325</td>\n",
       "    </tr>\n",
       "    <tr>\n",
       "      <th>Deltaproteobacteria</th>\n",
       "      <td>321</td>\n",
       "    </tr>\n",
       "    <tr>\n",
       "      <th>Epsilonproteobacteria</th>\n",
       "      <td>367</td>\n",
       "    </tr>\n",
       "    <tr>\n",
       "      <th>Flavobacteriia</th>\n",
       "      <td>1005</td>\n",
       "    </tr>\n",
       "    <tr>\n",
       "      <th>Fusobacteriia</th>\n",
       "      <td>55</td>\n",
       "    </tr>\n",
       "    <tr>\n",
       "      <th>Gammaproteobacteria</th>\n",
       "      <td>2781</td>\n",
       "    </tr>\n",
       "    <tr>\n",
       "      <th>Magnoliopsida</th>\n",
       "      <td>56</td>\n",
       "    </tr>\n",
       "    <tr>\n",
       "      <th>Negativicutes</th>\n",
       "      <td>130</td>\n",
       "    </tr>\n",
       "    <tr>\n",
       "      <th>Sphingobacteriia</th>\n",
       "      <td>230</td>\n",
       "    </tr>\n",
       "    <tr>\n",
       "      <th>Spirochaetia</th>\n",
       "      <td>82</td>\n",
       "    </tr>\n",
       "    <tr>\n",
       "      <th>nan</th>\n",
       "      <td>1154</td>\n",
       "    </tr>\n",
       "  </tbody>\n",
       "</table>\n",
       "</div>"
      ],
      "text/plain": [
       "                       Counts\n",
       "Class                        \n",
       "Alphaproteobacteria      2459\n",
       "Bacteroidia               435\n",
       "Betaproteobacteria       1470\n",
       "Chitinophagia             130\n",
       "Cytophagia                325\n",
       "Deltaproteobacteria       321\n",
       "Epsilonproteobacteria     367\n",
       "Flavobacteriia           1005\n",
       "Fusobacteriia              55\n",
       "Gammaproteobacteria      2781\n",
       "Magnoliopsida              56\n",
       "Negativicutes             130\n",
       "Sphingobacteriia          230\n",
       "Spirochaetia               82\n",
       "nan                      1154"
      ]
     },
     "execution_count": 11,
     "metadata": {},
     "output_type": "execute_result"
    }
   ],
   "source": [
    "unique_classes, class_counts = np.unique(classes, return_counts=True)\n",
    "pd.DataFrame(zip(unique_classes[class_counts > 50], class_counts[class_counts > 50]), columns=(\"Class\", \"Counts\")).set_index(\"Class\")\n"
   ]
  },
  {
   "cell_type": "markdown",
   "id": "350e6857",
   "metadata": {},
   "source": [
    "How do these divide up among clades? Let's make a fun stacked histogram (well, technically a kernel density estimate plot so it can be nice and smooth) with seaborn:"
   ]
  },
  {
   "cell_type": "code",
   "execution_count": 15,
   "id": "770a86c2",
   "metadata": {},
   "outputs": [
    {
     "data": {
      "text/plain": [
       "(11577, 19)"
      ]
     },
     "execution_count": 15,
     "metadata": {},
     "output_type": "execute_result"
    },
    {
     "data": {
      "text/plain": [
       "(11577, 19)"
      ]
     },
     "execution_count": 15,
     "metadata": {},
     "output_type": "execute_result"
    }
   ],
   "source": [
    "score20.shape"
   ]
  },
  {
   "cell_type": "code",
   "execution_count": 17,
   "id": "df4078bb",
   "metadata": {},
   "outputs": [
    {
     "data": {
      "text/plain": [
       "<AxesSubplot:xlabel='Interaction score', ylabel='Density'>"
      ]
     },
     "execution_count": 17,
     "metadata": {},
     "output_type": "execute_result"
    },
    {
     "data": {
      "text/plain": [
       "<AxesSubplot:xlabel='Interaction score', ylabel='Density'>"
      ]
     },
     "execution_count": 17,
     "metadata": {},
     "output_type": "execute_result"
    },
    {
     "data": {
      "image/png": "[encoded data removed]",
      "text/plain": [
       "<Figure size 864x252 with 1 Axes>"
      ]
     },
     "metadata": {
      "needs_background": "light"
     },
     "output_type": "display_data"
    },
    {
     "data": {
      "image/png": "[encoded data removed]",
      "text/plain": [
       "<Figure size 864x252 with 1 Axes>"
      ]
     },
     "metadata": {
      "needs_background": "light"
     },
     "output_type": "display_data"
    }
   ],
   "source": [
    "# Leave out the last one, which will be 'nan'\n",
    "in_major_clades = np.isin(classes, unique_classes[class_counts > 250][:-1])\n",
    "\n",
    "plt.figure(figsize=(12,3.5))\n",
    "X = pd.DataFrame(zip(scores[1:][in_major_clades], np.array(classes)[in_major_clades]), \n",
    "                 columns=(\"Interaction score\", \"Class\"))\n",
    "\n",
    "sns.kdeplot(data=X, x=\"Interaction score\", hue=\"Class\", fill=True, multiple=\"stack\")"
   ]
  },
  {
   "cell_type": "markdown",
   "id": "bcc787fa",
   "metadata": {},
   "source": [
    "Fit a Gaussian mixture model to the distribution with any arbitrary number of Gaussians:"
   ]
  },
  {
   "cell_type": "code",
   "execution_count": 18,
   "id": "b1c88b96",
   "metadata": {},
   "outputs": [
    {
     "data": {
      "image/png": "[encoded data removed]",
      "text/plain": [
       "<Figure size 360x180 with 1 Axes>"
      ]
     },
     "metadata": {
      "needs_background": "light"
     },
     "output_type": "display_data"
    },
    {
     "data": {
      "image/png": "[encoded data removed]",
      "text/plain": [
       "<Figure size 360x180 with 1 Axes>"
      ]
     },
     "metadata": {
      "needs_background": "light"
     },
     "output_type": "display_data"
    }
   ],
   "source": [
    "n = 3 # Can re-set the number of Gaussians to fit\n",
    "\n",
    "def gaussian(x,mu,var):\n",
    "    \n",
    "    return 1 / np.sqrt(2 * np.pi * var) * np.exp(-(x-mu)**2/2/var)\n",
    "\n",
    "# Define the scores\n",
    "    # GaussianMixture needs them to be in this very silly shape as below\n",
    "scores = np.sum(score20,axis=1).reshape(len(score20), -1)\n",
    "\n",
    "# Initialize a two component Gaussian mixture model\n",
    "gmm = GaussianMixture(n); gmm.fit(scores)\n",
    "\n",
    "mu = gmm.means_.reshape(n)\n",
    "w = gmm.weights_.reshape(n)\n",
    "var = gmm.covariances_.reshape(n)\n",
    "\n",
    "gaussians = []\n",
    "for k in range(n):\n",
    "    gaussians.append(lambda x: gaussian(x, mu[k], var[k]))\n",
    "    \n",
    "x = np.linspace(-0.25, 0.85, 1000)\n",
    "\n",
    "plt.figure(figsize=(5,2.5))\n",
    "plt.hist(scores, density=True, color='lightgray', bins=50)\n",
    "for k in range(n):\n",
    "    plt.plot(x, gaussians[k](x)*w[k], lw=3)\n",
    "    \n",
    "full_dist = 0\n",
    "for k in range(n):\n",
    "    full_dist += gaussians[k](x) * w[k]\n",
    "    \n",
    "plt.plot(x, full_dist, c='k', lw=3)\n",
    "\n",
    "plt.xlabel(\"Interaction score\")\n",
    "plt.ylabel(\"Probability density\")\n",
    "\n",
    "plt.savefig(\"interaction_score_mixture_model.pdf\", bbox_inches='tight')"
   ]
  },
  {
   "cell_type": "markdown",
   "id": "352fb4a7",
   "metadata": {},
   "source": [
    "Here's my \"actual\" code for the 2-component Gaussian mixture (basically the same as the above)"
   ]
  },
  {
   "cell_type": "code",
   "execution_count": 19,
   "id": "903e256a",
   "metadata": {},
   "outputs": [
    {
     "data": {
      "image/png": "[encoded data removed]",
      "text/plain": [
       "<Figure size 360x180 with 1 Axes>"
      ]
     },
     "metadata": {
      "needs_background": "light"
     },
     "output_type": "display_data"
    },
    {
     "data": {
      "image/png": "[encoded data removed]",
      "text/plain": [
       "<Figure size 360x180 with 1 Axes>"
      ]
     },
     "metadata": {
      "needs_background": "light"
     },
     "output_type": "display_data"
    }
   ],
   "source": [
    "# Initialize a two component Gaussian mixture model\n",
    "gmm2 = GaussianMixture(2); gmm2.fit(scores)\n",
    "\n",
    "mu = gmm2.means_.reshape(2)\n",
    "w = gmm2.weights_.reshape(2)\n",
    "var = gmm2.covariances_.reshape(2)\n",
    "\n",
    "gauss_1 = lambda x: gaussian(x, mu[0], var[0])\n",
    "gauss_2 = lambda x: gaussian(x, mu[1], var[1])\n",
    "\n",
    "x = np.linspace(-0.25, 0.85, 1000)\n",
    "\n",
    "plt.figure(figsize=(5,2.5))\n",
    "plt.hist(scores, density=True, color='lightgray', bins=50)\n",
    "plt.plot(x, gauss_1(x)*w[0], lw=3)\n",
    "plt.plot(x, gauss_2(x)*w[1], lw=3)\n",
    "plt.plot(x, gauss_1(x)*w[0] + gauss_2(x)*w[1], c='k', lw=3)\n",
    "\n",
    "plt.xlabel(\"Interaction score\")\n",
    "plt.ylabel(\"Probability density\")\n",
    "\n",
    "plt.savefig(\"interaction_score_mixture_model.pdf\", bbox_inches='tight')"
   ]
  },
  {
   "cell_type": "markdown",
   "id": "1a51ac9b",
   "metadata": {},
   "source": [
    "I now want to calculate the posterior probability of each sequence pair being in the upper Gaussian. While it's trivial to extract the assigned probability value, this isn't enough. I'll use Bayes' rule:\n",
    "\n",
    "$$ p(G_2 | S=s) = \\frac{p(S=s | G_2) p(G_2)}{p(S=s)}$$\n",
    "\n",
    "$p(G_2)$ is just $w_2$, while $p(S=s)$ is the total probability assigned by the mixture model.\n",
    "\n",
    "A quick note about this: compared to just assigning each point to the mixture component that assigns a higher probability, this will downweight the \"upper\" Gaussian slightly based on the *prior* expectation that it's more likely for a random sequence of unknwon interaction score to be in the lower Gaussian than the upper one."
   ]
  },
  {
   "cell_type": "code",
   "execution_count": 20,
   "id": "6ff9f415",
   "metadata": {},
   "outputs": [],
   "source": [
    "# The posterior probability of being in Gaussian #2 by Bayes' rule\n",
    "post_p = gauss_2(scores).T[0] * w[1] / (w[0] * gauss_1(scores).T[0] + w[1] * gauss_2(scores).T[0])"
   ]
  },
  {
   "cell_type": "markdown",
   "id": "f3a08ad9",
   "metadata": {},
   "source": [
    "If we assume that each sequence pair is independently drawn, the overall expected value for the fraction of interacting sequences in a class will be the average posterior probability of being in Gaussian #2 across the class by the Central Limit Theorem.\n",
    "\n",
    "Note that because of phylogeny they are of course *not* truely independent, so this isn't entirely accurate, but it's hard to make any other specific assumptions here."
   ]
  },
  {
   "cell_type": "code",
   "execution_count": 21,
   "id": "381dd42d",
   "metadata": {},
   "outputs": [
    {
     "name": "stdout",
     "output_type": "stream",
     "text": [
      "Expected fraction of interacting gammaproteobacteria 0.48345056827154986\n",
      "Expected fraction of interacting alphaproteobacteria 0.3514103422351856\n",
      "Expected fraction of interacting gammaproteobacteria 0.48345056827154986\n",
      "Expected fraction of interacting alphaproteobacteria 0.3514103422351856\n"
     ]
    }
   ],
   "source": [
    "tax = 'Gammaproteobacteria'\n",
    "w = np.where(np.array(classes)==tax)[0]\n",
    "print(\"Expected fraction of interacting gammaproteobacteria\", np.mean(post_p[w]))\n",
    "\n",
    "tax = 'Alphaproteobacteria'\n",
    "w = np.where(np.array(classes)==tax)[0]\n",
    "print(\"Expected fraction of interacting alphaproteobacteria\", np.mean(post_p[w]))"
   ]
  },
  {
   "cell_type": "code",
   "execution_count": null,
   "id": "d4c18d59",
   "metadata": {},
   "outputs": [],
   "source": []
  }
 ],
 "metadata": {
  "kernelspec": {
   "display_name": "sequences",
   "language": "python",
   "name": "sequences"
  },
  "language_info": {
   "codemirror_mode": {
    "name": "ipython",
    "version": 3
   },
   "file_extension": ".py",
   "mimetype": "text/x-python",
   "name": "python",
   "nbconvert_exporter": "python",
   "pygments_lexer": "ipython3",
   "version": "3.10.4"
  }
 },
 "nbformat": 4,
 "nbformat_minor": 5
}
