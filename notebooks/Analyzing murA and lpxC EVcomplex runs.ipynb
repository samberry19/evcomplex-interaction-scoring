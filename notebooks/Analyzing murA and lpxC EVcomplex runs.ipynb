{
 "cells": [
  {
   "cell_type": "markdown",
   "id": "fd69269d",
   "metadata": {},
   "source": [
    "# Analyzing murA and lpxC EVcomplex runs\n",
    "\n",
    "This notebook provides code to analyze the outputs of the initial EVcomplex runs for murA and lpxC. It does not show how the alignments were built or how the intitial models were inferred. However, the initial alignments and the trained model have been provided, and the README contains contains code to re-train the model from the alignments."
   ]
  },
  {
   "cell_type": "code",
   "execution_count": 1,
   "id": "13fde356",
   "metadata": {
    "scrolled": true
   },
   "outputs": [
    {
     "name": "stdout",
     "output_type": "stream",
     "text": [
      "/Users/sam/Documents/GitHub/evcomplex-scoring\n"
     ]
    }
   ],
   "source": [
    "cd ../"
   ]
  },
  {
   "cell_type": "code",
   "execution_count": 2,
   "id": "1a731168",
   "metadata": {},
   "outputs": [],
   "source": [
    "import numpy as np\n",
    "import pandas as pd\n",
    "import matplotlib.pyplot as plt\n",
    "\n",
    "# \"bioviper\" provides easier functionality for working with Biopython classes\n",
    "from bioviper import msa, pdb\n",
    "\n",
    "# To work directly with EVcouplings DCA models\n",
    "from evcouplings.couplings import CouplingsModel\n",
    "\n",
    "from score import score_sequences"
   ]
  },
  {
   "cell_type": "code",
   "execution_count": 3,
   "id": "3e8fcc5e",
   "metadata": {},
   "outputs": [],
   "source": [
    "%matplotlib ipympl\n",
    "from mpl_interactions import interactive_hist"
   ]
  },
  {
   "cell_type": "code",
   "execution_count": 7,
   "id": "f0a4a391",
   "metadata": {},
   "outputs": [],
   "source": [
    "init_couplings = pd.read_csv(\"coupling_scores/init_b0.8_CouplingScores_longrange.csv\")\n",
    "init_inter_couplings = init_couplings.loc[init_couplings['segment_i'] != init_couplings['segment_j']]\n",
    "\n",
    "init_model = CouplingsModel('/Users/sam/Documents/dca_models/murA_lpxC_b0.8_init.model')"
   ]
  },
  {
   "cell_type": "code",
   "execution_count": null,
   "id": "bb806959",
   "metadata": {},
   "outputs": [],
   "source": [
    "murA_ali = msa.readAlignment(\"alignments/murA_init_align_1.a2m\")\n",
    "print(\"murA alignment has\", murA_ali.N, \"sequences and\", murA_ali.L, 'positions')\n",
    "\n",
    "lpxC_ali = msa.readAlignment(\"alignments/lpxC_init_align_2.a2m\")\n",
    "print(\"lpxC alignment has\", lpxC_ali.N, \"sequences and\", lpxC_ali.L, 'positions')\n",
    "\n",
    "murA_lpxC_concat_ali = msa.readAlignment(\"alignments/murA_lpxC_concatenated_full.a2m\")\n",
    "print(\"Concatenated alignment has\", murA_lpxC_concat_ali.N, \"sequences and\", \n",
    "                                    murA_lpxC_concat_ali.L, 'positions')"
   ]
  },
  {
   "cell_type": "markdown",
   "id": "0f04fc32",
   "metadata": {},
   "source": [
    "The murA and lpxC raw alignments are much larger than the concatenated one. For now, we'll want to trim them down to include only the sequences that end up in the concatenated alignment through the EVComplex concatenation pipeline. Note that many sequences don't make it in because either:\n",
    "\n",
    "1) The species that the sequence is from is not present in both alignments, so there's no match to be made\n",
    "\n",
    "2) There are two different sequences from the species in question. In this case, the one that is *most similar to the reference* was selected to be included in the concatenated alignment."
   ]
  },
  {
   "cell_type": "code",
   "execution_count": 42,
   "id": "2dfe3b1b",
   "metadata": {},
   "outputs": [],
   "source": [
    "concat_ali_ids = murA_lpxC_concat_ali.ids[1:]\n",
    "\n",
    "murA_sequences_in_cat_ali = [murA_ali.ids[0]] + ['_'.join(i.split('_')[:2]) for i in concat_ali_ids]\n",
    "lpxC_sequences_in_cat_ali = [lpxC_ali.ids[0]] + ['_'.join(i.split('_')[2:]) for i in concat_ali_ids]\n",
    "\n",
    "murA_ali = murA_ali.subset_by_ids(murA_sequences_in_cat_ali, sort=False).standardize()\n",
    "lpxC_ali = lpxC_ali.subset_by_ids(lpxC_sequences_in_cat_ali, sort=False).standardize()"
   ]
  },
  {
   "cell_type": "code",
   "execution_count": 30,
   "id": "0fdab421",
   "metadata": {
    "scrolled": true
   },
   "outputs": [
    {
     "name": "stdout",
     "output_type": "stream",
     "text": [
      "Kept 1 out of 1 pairs and 11811 out of 11834 sequences\n",
      "Kept 2 out of 2 pairs and 11788 out of 11834 sequences\n",
      "Kept 3 out of 3 pairs and 11752 out of 11834 sequences\n",
      "Kept 4 out of 4 pairs and 11618 out of 11834 sequences\n",
      "Kept 5 out of 5 pairs and 11596 out of 11834 sequences\n",
      "Kept 6 out of 6 pairs and 11579 out of 11834 sequences\n",
      "Kept 7 out of 7 pairs and 11538 out of 11834 sequences\n",
      "Kept 8 out of 8 pairs and 11538 out of 11834 sequences\n",
      "Kept 9 out of 9 pairs and 11519 out of 11834 sequences\n",
      "Kept 10 out of 10 pairs and 11511 out of 11834 sequences\n",
      "Kept 11 out of 11 pairs and 11509 out of 11834 sequences\n",
      "Kept 12 out of 12 pairs and 10929 out of 11834 sequences\n",
      "Kept 13 out of 13 pairs and 10928 out of 11834 sequences\n",
      "Kept 14 out of 14 pairs and 10920 out of 11834 sequences\n",
      "Kept 15 out of 15 pairs and 10918 out of 11834 sequences\n",
      "Kept 16 out of 16 pairs and 10915 out of 11834 sequences\n",
      "Kept 17 out of 17 pairs and 10915 out of 11834 sequences\n",
      "Kept 18 out of 18 pairs and 10915 out of 11834 sequences\n",
      "Kept 19 out of 19 pairs and 10914 out of 11834 sequences\n",
      "Kept 20 out of 20 pairs and 10910 out of 11834 sequences\n",
      "Kept 21 out of 21 pairs and 10908 out of 11834 sequences\n",
      "Kept 22 out of 22 pairs and 10908 out of 11834 sequences\n",
      "Kept 23 out of 23 pairs and 10884 out of 11834 sequences\n",
      "Kept 24 out of 24 pairs and 10883 out of 11834 sequences\n",
      "Kept 25 out of 25 pairs and 10878 out of 11834 sequences\n",
      "Kept 26 out of 26 pairs and 10878 out of 11834 sequences\n",
      "Kept 27 out of 27 pairs and 10875 out of 11834 sequences\n",
      "Kept 28 out of 28 pairs and 10866 out of 11834 sequences\n",
      "Kept 29 out of 29 pairs and 10864 out of 11834 sequences\n",
      "Kept 30 out of 30 pairs and 10836 out of 11834 sequences\n",
      "Kept 31 out of 31 pairs and 10836 out of 11834 sequences\n",
      "Kept 32 out of 32 pairs and 10835 out of 11834 sequences\n",
      "Kept 33 out of 33 pairs and 10830 out of 11834 sequences\n",
      "Kept 34 out of 34 pairs and 10830 out of 11834 sequences\n",
      "Kept 34 out of 35 pairs and 10830 out of 11834 sequences\n",
      "Kept 35 out of 36 pairs and 10823 out of 11834 sequences\n",
      "Kept 36 out of 37 pairs and 10815 out of 11834 sequences\n",
      "Kept 37 out of 38 pairs and 10815 out of 11834 sequences\n",
      "Kept 38 out of 39 pairs and 10763 out of 11834 sequences\n",
      "Kept 39 out of 40 pairs and 10763 out of 11834 sequences\n",
      "Kept 40 out of 41 pairs and 10763 out of 11834 sequences\n",
      "Kept 41 out of 42 pairs and 10742 out of 11834 sequences\n",
      "Kept 42 out of 43 pairs and 10742 out of 11834 sequences\n",
      "Kept 43 out of 44 pairs and 10699 out of 11834 sequences\n",
      "Kept 43 out of 45 pairs and 10699 out of 11834 sequences\n",
      "Kept 44 out of 46 pairs and 10687 out of 11834 sequences\n",
      "Kept 45 out of 47 pairs and 10687 out of 11834 sequences\n",
      "Kept 46 out of 48 pairs and 10687 out of 11834 sequences\n",
      "Kept 47 out of 49 pairs and 10686 out of 11834 sequences\n"
     ]
    }
   ],
   "source": [
    "Scores = []; Ks = []; Kp = []\n",
    "\n",
    "for i in range(1, 50):\n",
    "    \n",
    "    s, ks, kp = score_sequences(init_model, murA_ali, lpxC_ali, init_inter_couplings, i)\n",
    "    Scores.append(s)"
   ]
  },
  {
   "cell_type": "code",
   "execution_count": 60,
   "id": "c1b6840c",
   "metadata": {},
   "outputs": [
    {
     "data": {
      "application/vnd.jupyter.widget-view+json": {
       "model_id": "a7fcdbd93a6346ccb38e0990bd625edb",
       "version_major": 2,
       "version_minor": 0
      },
      "text/plain": [
       "VBox(children=(HBox(children=(IntSlider(value=0, description='n', max=46, readout=False), Label(value='1.00'))…"
      ]
     },
     "metadata": {},
     "output_type": "display_data"
    },
    {
     "data": {
      "text/plain": [
       "Text(0.5, 1.0, \"Interaction scores for the top N 'true positive' couplings\")"
      ]
     },
     "execution_count": 60,
     "metadata": {},
     "output_type": "execute_result"
    },
    {
     "data": {
      "application/vnd.jupyter.widget-view+json": {
       "model_id": "5b36229a1d1b4807928d08a7be296fce",
       "version_major": 2,
       "version_minor": 0
      },
      "image/png": "[encoded data removed]",
      "text/html": [
       "\n",
       "            <div style=\"display: inline-block;\">\n",
       "                <div class=\"jupyter-widgets widget-label\" style=\"text-align: center;\">\n",
       "                    Figure\n",
       "                </div>\n",
       "                <img src='data:image/png;base64,iVBORw0KGgoAAAANSUhEUgAAAbAAAADYCAYAAACKnrapAAAAOXRFWHRTb2Z0d2FyZQBNYXRwbG90bGliIHZlcnNpb24zLjUuMSwgaHR0cHM6Ly9tYXRwbG90bGliLm9yZy/YYfK9AAAACXBIWXMAAAsTAAALEwEAmpwYAAAivUlEQVR4nO3de7xUdb3/8ddbxBtagBAholsNK7WTGamVJaWRtyOeTpmWBuaRLppadpIs0zRLKy37aRqlqXlLK42U8pZ094KXVLwkIiqIiIoGerTAz++P73frYpg9szbs2cPavJ+Pxzxmre+6fdZl5jNrre98lyICMzOzqlmj3QGYmZmtCCcwMzOrJCcwMzOrJCcwMzOrJCcwMzOrJCcwMzOrJCcwMzOrJCcwMzOrJCcwMzOrJCewVZSkGZLGtDuOdpL0GUnzJS2WtGEL5t8hKSSt2dPzttZo9rmQ9FtJ43svot4haZqk/8ndH5d0bbtjWhX06QQmabakXUuO+8oB0tsknSfpG8WyiNg6Iqa1I55VgaT+wGnA2IhYPyKe7oF5lj4eVmDeYyTNacW88/ynSXpR0shC2a6SZjeYJgrdbTu+e1LxcyHpeEkX1gzfPSLOX9nl5GOlY2Xn0woRcVFEjG13HKuCPp3AepOkfu2OYVXQg9thGLAOMGMFYpCkvnhsPw8c24oZ+yzUKiki+uwLmA3smrsnAH8GvgssBB4Gds/DTgKWAi8Ci4EzcvmbgOuAZ4AHgH0L8z4POAuYSvpi2RXYE7gD+CfwGHB8TTw7AX8Fns3DJwATgX8D/8rL/k2d2NcGvg88nl/fB9bOw8YAc4CjgCeBecBBDbbJBGAWsChvg48Xhh0C3JeH3Qtsl8vfDEzLcc8A9m6yHTYCfgksyMs4vDD+9sD0vI3mA6fViXHLPK/I2+T3ufxdwK3Ac/n9XYVppuX9+Bfg/4A31MzzZ8DLedhi4EtAR17GeOBR4CngK4Vp1gAmAQ8BTwOXAYPrxDsgz/flPO/FeRuU2W/H5OXOLu6LOsuYBhyX980WuWxXYHaDaaLJ8R3AocCDeT91bo81a5b7P4X+T+ZjZCFwDbBpF8vunNfEvO7zgC8WhjfaNkOAq0jH2zPAn4A1ip8LYDfSZ+bfeZ3+Xow3z/9ZYJvCMofm/fS63L8XcGce76/Af9R8d3R0sW6DgZ/muBcCV9Z8hmbmuKcAG9Vsj7rblvS5/AtwBun4vh/YpcG4fy7uZ+DTeT8+C5wJKA/rB5xKOsYeBg4rxkGD74MqvNoeQEtXbvkE9u98gPUDPpMPwM4d/coBkvsHkJLMQcCawNvyQbBVHn5ePtDeTfqiW4f0pfSW3P8fpC/offL4m+aDZH+gP7AhsG1hXt9oEPsJwE3A60gfwr8CJ+ZhY4AleZz+wB7AC8CgOttjAClxvDH3Dwe2zt0fAeYC7wAEvCHH3J/0gTwGWAt4f16PN3axHdYDbgO+lsffPH9APpjH/xtwYO5eH9ixi33XUfNBG0z6sjgw74/9c/+Ghf33KLB1Ht6/0fFQs4wfA+sCbwVeAt6chx+Rt/vGpC/EHwGXdBHvGGBOTVmZ/XZanvfOpKT9xi7mP430xXwacGEua5jA6k1fUxakH2iD8/ovs81rpwPG5WPhzXkbfxX4a5P9dwnpuHsL6QdNmWP6W8DZpGOvP/AeXv2czi7M4/jObdFFvOcCJxWGHQr8Lne/jfSDbwfS98H4PO+1S2zLq4GfA4NyfDvn8veTviO2y/v0/wF/rHc814l1Qj4ePp/n+VHS52pwF+PWJrCrgIHAJnk775aHfZr0Y3TjHO/1nXHQ4PugKq+2B9DSlVs+gc0sDFsv78jX1x4guf+jwJ9q5vcj4LjcfR5wQZPlfx/4Xu7+MnBFF+OdR+ME9hCwR2HYB8lfXKQvwv+r+WA8SZ3EkA/YZ4H/BtatGXYNcESdad4DPEH+BZzLLiGfXdZuB9IXwqM18/gy8NPc/Ufg68CQJtuug2UT2IHALTXj/A2YUNh/J5Q9HmqWsXGh7BZgv9x9H8v+Ch5O+hG0Zp15j2H5BNZsvy0BBhSGXwYc20Xs00gJbCjpi21reiaBvb+rbV47HfBb4ODCsDVIP5Y2bbD/3lQo+zZwToltcwLwa2rOout8Lo6ncQLbFXioMOwvwCdy91nkhFkY/gA5GTXYjsNJZ9r1fiCeA3y70L9+Pl46SmzbCRR+UBeOxQO7GLc2ge1UcxxNyt2/Bz5VGLYryyawZ6nzfVCVV1+8T9DIE50dEfFC7ly/i3E3BXaQ9GznC/g48PrCOI8VJ5C0g6QbJS2Q9Bzp18+QPHgk6UO7IjYCHin0P5LLOj0dEUsK/S9QZ70i4nlSYv40ME/S1ZLe1CS+jYDHIuLlmuWPKPQXt8OmwEY12+0Y0j0tgINJlwjvl3SrpL3qrXAXcTxSU9Yoju54otBd3HabAlcU1uM+0qW4YZTTbL8tzPukq+HLiYgFpMtMJ5SMoZnubLNNgdML2+MZ0tn6iAbTFOdfXL9G2+Y7pDO9ayXNkjSpGzEW3Qislz+XHcC2wBWFdTmq5jgdSZPtn8d5JiIW1hm2zDpFxGLSpedG26dobuQskzU9Hgq6OoY3Ytl98Ep3k++DSljdElgjUdP/GPCHiBhYeK0fEZ9pMM3FpOveIyPitaTLICrMb4uSy671OOkD12mTXNZtEXFNRHyA9EvyftLls0bxPQ6MrKkUsQnpcuMrsy10PwY8XLPdNoiIPfLyH4yI/UmXjk4BfiFpQInQa7dBszjqaTa81mOk+6TFdVknIubWGbfevJvtt0E16152v34HeB/w9hLjNoqvtrwzma5XKKv9wfapmu2xbkT8tcFyRxa6i+vX5baJiEURcVREbA7sDXxB0i7dWCfyfJaSzkb2z6+rImJRYV1OqlmX9SLikkbzzNMNljSwzrBl1inv2w1Jx2izbQswQpIK/Sv8OS+YR7p82Km4Pxp9H1SCE9ir5pPu13S6CthS0oGS+ufXOyS9ucE8NiD9OntR0vbAxwrDLgJ2lbSvpDUlbShp2y6WXesS4KuShkoaQrq/dGGD8euSNEzSuPzBeol087vzzOonwBclvT3X4nuDpE2Bm0m/6L6Ut8EY4D+BS7tYzC3AIklHS1pXUj9J20h6R47hAElD8xnds3mal7uYV9FU0v74WN5+HwW2Iu2nsppt51pnAyfl7UDe/uMazHtDSa8tlJXZb1+XtJak95AqFVzeLKiIeJZ0Y/5L3ViXpuuez+7mAgfk/fZJlv1RczbwZUlbA0h6raSPNFnusZLWy9McRLp3BA22jaS98vEn0uXSpdQ/RuYDHU1qnF5MOsv4eO7u9GPg0/nsTJIGSNpT0gaNViYi5pEupf5Q0qD8mXhvYZ0OkrStpLWBbwI3R8TsEtsW0o+6w/M8P0K61zi1UTwlXAYcIWlETrpHdw5o8n1QCU5grzod+LCkhZJ+kH+pjQX2I/0KeoJ0xrB2g3l8FjhB0iLSB/KyzgER8SipgsVRpEsvd5IqDUC6dr5VvpRxZZ35foNUc+8u4G7g9lzWXWsAX8jr8wyp4sBncnyXk2qrXUyqpHEl6Qbyv0gJa3fSDeofku4j3F9vAflX716kyzUP52l+AnR+se8GzJC0mLTN94uI/2sWeKT/ge1F2n5Pk76894qIp7qx/t8ifWk+K+mLJcY/nXRGfW3epzeR7vHVi+9+0hfYrDz/jWi+354gVUR5nPQD59NdbdcuYltactzO8V85vhuMdwjwv6RtvDWpcgUAEXEF6TNwqaR/AveQjotG/kC6HHgD8N2I6PwDbqNtM4pU2WAx6T7nDyPixjrz7kz2T0u6vd7CI+Jm0tnPRqTE01k+Pa/rGaR9MJN0b6mMA0n3tu4n3W8+Ms/zetLfHH5JOvPZgvT90anLbZvdTFr3p0ifxQ/Hyv//8cfAtaTtfAcpIS4hHTtdfh9URWfNHjPrRflM9sKI2LjJqJWU7zk9TKoNuqTJ6Ks9SRNIlTR2avFydgfOjojay/GV5DMwM7M+Kl/G3yNfdh9B+i/hFc2mqwonMDOzvkukv60sJF1CvI90e6NP8CVEMzOrJJ+BmZlZJTmBmZlZJbWsBWqlxz5cQGq1IIDJEXG6pONJ1UkX5FGPiYipeZovk1pqWEpqAPaaXL4bqRpwP+AnEXFys+UPGTIkOjo6enSdzMz6uttuu+2piBja7jjKaOUjFJYAR0XE7fnPgbdJui4P+15EfLc4sqStSP+Z2Jr0n43rJW2ZB58JfIDUevetkqZExL2NFt7R0cH06dN7cHXMzPo+SbVNtq2yWpbA8j/W5+XuRZLuo3GbYOOASyPiJeBhSTNJj96A1AjvLABJl+ZxGyYwMzPr23rlHlj+U+PbSP80BzhM0l2SzpU0KJeNYNlGJ+fksq7KzcxsNdbyBCZpfVLTKkdGxD9JjzHYgtTU0DxSm249tayJkqZLmr5gwYLmE5iZWWW1NIFJ6k9KXhdFxK8AImJ+RCzNjbn+mFcvE85l2ZaSN85lXZUvJyImR8ToiBg9dGgl7kGamdkKalkCyy1JnwPcFxGnFcqHF0b7L1KDoJAaTd1P0tqSNiM1ankL6dHxoyRtJmktUkWPKa2K28zMqqGVtRDfTWq1+W5Jd+ayY4D982NEgvR01U8BRMQMSZeRKmcsAQ7NLZsj6TDSE4P7AedGxIwWxm1mZhXQZ5uSGj16dLga/eqpY9LVy/TPPnnPNkViVj2SbouI0e2Oowy3xGFmZpXkBGZmZpXkBGZmZpXkBGZmZpXkBGZmZpXkBGZmZpXkBGZmZpXkBGZmZpXkBGZmZpXkBGZmZpXkBGZmZpXkBGZmZpXkBGZmZpXkBGZmZpXkBGZmZpXkBGZmZpXkBGZmZpXkBGZmZpXkBGZmZpVUKoFJOkLSa5ScI+l2SWNbHZyZmVlXyp6BfTIi/gmMBQYBBwIntywqMzOzJsomMOX3PYCfRcSMQpmZmVmvK5vAbpN0LSmBXSNpA+Dl1oVlZmbWWNkEdjAwCXhHRLwArAUc1GwiSSMl3SjpXkkzJB2RywdLuk7Sg/l9UC6XpB9IminpLknbFeY1Po//oKTx3V5TMzPrU8omsAC2Ag7P/QOAdUpMtwQ4KiK2AnYEDpW0FSkZ3hARo4Abcj/A7sCo/JoInAUp4QHHATsA2wPHdSY9MzNbPZVNYD8E3gnsn/sXAWc2mygi5kXE7bl7EXAfMAIYB5yfRzsf2Cd3jwMuiOQmYKCk4cAHgesi4pmIWAhcB+xWMnYzM+uD1iw53g4RsZ2kOwAiYqGktbqzIEkdwNuAm4FhETEvD3oCGJa7RwCPFSabk8u6Kjczs9VU2TOwf0vqR7qUiKShdKMSh6T1gV8CR+bq+K+IiOic78qSNFHSdEnTFyxY0BOzNDOzVVTZBPYD4ArgdZJOAv4MfLPMhJL6k5LXRRHxq1w8P18aJL8/mcvnAiMLk2+cy7oqX0ZETI6I0RExeujQoSVXzczMqqhUAouIi4AvAd8C5gH7RMTlzaaTJOAc4L6IOK0waArQWZNwPPDrQvkncm3EHYHn8qXGa4Cxkgblyhtjc5mZma2mSt0Dy8lkRkScmftfI2mHiLi5yaTvJrXacbekO3PZMaRWPC6TdDDwCLBvHjaV9F+zmcAL5Kr6EfGMpBOBW/N4J0TEM2ViNzOzvqlsJY6zgO0K/YvrlC0nIv5M1y127FJn/AAO7WJe5wLnlgnWzMz6vtJNSeXkAkBEvEz55GdmZtbjyiawWZIOl9Q/v44AZrUyMDMzs0bKJrBPA+8i1fybQ2oRY2KrgjIzM2um1GXAiHgS2K/FsZiZmZVWthbiUOAQoKM4TUR8sjVhmZmZNVa2IsavgT8B1wNLWxeOmZlZOWUT2HoRcXRLIzEzM+uGspU4rpK0R0sjMTMz64ayCewIUhJ7UdI/JS2S9M+mU5mZmbVI2VqIG7Q6EDMzs+4odQaWG9c9QNKxuX+kpO1bG5qZmVnXuvtE5o/l/sWUeCKzmZlZq/TaE5nNzMx6Uq88kdnMzKyntfyJzGZmZq1QthbiRZJuIz3DS6QnMt/X0sjMzMwaKNsW4iakJyT/plgWEY+2KjAzM7NGylbiuJp0/0vAOsBmwAPA1i2Ky8zMrKGylxDfUuyXtB3w2ZZEZGZmVkLZShzLiIjbSQ+1NDMza4uy98C+UOhdA9gOeLwlEZmZmZVQ9h5YsS3EJaR7Yr/s+XDMzMzKKXsP7OutDsTMzKw7yl5C/A25FY56ImLvLqY7F9gLeDIitsllxwOHAAvyaMdExNQ87MvAwaSnPh8eEdfk8t2A04F+wE8i4uQycZuZWd9V9hLiLOD1wIW5f39gPnBlk+nOA84ALqgp/15EfLdYIGkrYD9S1fyNgOslbZkHnwl8AJgD3CppSkTcWzJ2MzPrg8omsHdHxOhC/28kTY+IzzeaKCL+KKmj5DLGAZdGxEvAw5JmAp2PbJkZEbMAJF2ax3UCMzNbjZVNYAMkbV5IIpsBA1ZiuYdJ+gQwHTgqIhYCI4CbCuPMyWUAj9WUuwp/H9Qx6epl+mefvGebIjGzKij7P7DPA9MkTZP0B+BG4MgVXOZZwBbAtsA84NQVnM9yJE2UNF3S9AULFjSfwMzMKqtsLcTfSRoFvCkX3Z8v9XVbRMzv7Jb0Y+Cq3DsXGFkYdeNcRoPy2nlPBiYDjB49ustKJ2ZmVn1layGuB3wB2DQiDpE0StIbI+KqZtPWmdfwiJiXe/8LuCd3TwEulnQaqRLHKOAWUvuLo/Jly7mkih4fw4zlLzua2eqj7D2wnwK3Ae/M/XOBy3n17KkuSZcAY4AhkuYAxwFjJG1LqpY/G/gUQETMkHQZqXLGEuDQiFia53MYcA2pGv25ETGjZNxmZtZHlU1gW0TERyXtDxARL0hSs4kiYv86xec0GP8k4KQ65VOBqSVjNTOz1UDZShz/krQu+c/MkrYAVugemJmZWU8oewZ2HPA7YKSki4B3AxNaFZSZmVkzZWshXifpdmBHUqWKIyLiqZZGZmZm1kCpS4iS3g28GBFXAwOBYyRt2srAzMzMGil7CfEs4K2S3kqqTn8OqX3DnVsVmPUtbmXDzHpa2UocSyIiSG0QnhkRZ7LsM8LMzMx6VdkzsEX5UScHAO+VtAbQv3VhmZmZNVb2DOyjpGrzB0fEE6TmnL7TsqjMzMyaKFsL8QngtEL/oyz/jC8zM7NeU/YSolmPchuGZrayyl5CNDMzW6U0TGCSbsjvp/ROOGZmZuU0u4Q4XNK7gL0lXUpqheMVEXF7yyIzMzNroFkC+xpwLKnW4Wk1wwJ4fyuCMjMza6ZhAouIXwC/kHRsRJzYSzGZmZk1VbYa/YmS9gbem4umrcjTmM3MzHpK2cZ8vwUcQXpa8r3AEZK+2crAzMzMGin7P7A9gW0j4mUASecDdwDHtCowMzOzRrrzP7CBhe7X9nAcZmZm3VL2DOxbwB2SbiRVpX8vMKllUZmZmTVRthLHJZKmAe/IRUfn9hHNzMzaonRbiBExD5jSwljMzMxKa2lbiJLOlfSkpHsKZYMlXSfpwfw+KJdL0g8kzZR0l6TtCtOMz+M/KGl8K2M2M7NqaHVjvucBu9WUTQJuiIhRwA28ei9td2BUfk0EzoKU8IDjgB2A7YHjOpOemZmtvpomMEn9JN2/IjOPiD8Cz9QUjwPOz93nA/sUyi+I5CZgoKThwAeB6yLimYhYCFzH8knRzMxWM00TWEQsBR6QtEkPLXNYvp8G8AQwLHePAB4rjDcnl3VVbmZmq7GylTgGATMk3QI831kYEXuvzMIjIiTFysyjSNJE0uVHNtmkp/KtmZmtisomsGN7cJnzJQ2PiHn5EuGTuXwuMLIw3sa5bC4wpqZ8Wr0ZR8RkYDLA6NGjeywxmpnZqqdUJY6I+AMwG+ifu28FVvRZYFOAzpqE44FfF8o/kWsj7gg8ly81XgOMlTQoV94Ym8vMzGw1VuoMTNIhpEtzg4EtSPegzgZ2aTLdJaSzpyGS5pBqE54MXCbpYOARYN88+lRgD2Am8AJwEEBEPCPpRFLSBDghImorhlgf1DHp6uXKZp+8ZxsiMbNVUdlLiIeSqrDfDBARD0p6XbOJImL/LgYtl/giIvJy6s3nXODckrGamdlqoOz/wF6KiH919khak/REZjMzs7Yom8D+IOkYYF1JHwAuB37TurDMzMwaK5vAJgELgLuBT5HuV321VUGZmZk1U7Y1+pfzQyxvJl06fCDfszIzM2uLsrUQ9yTVOnyI9DywzSR9KiJ+28rgzMzMulK2FuKpwPsiYiaApC2AqwEnMDMza4uy98AWdSavbBawqAXxmJmZldLwDEzSh3LndElTgctI98A+wqt/LDYzM+t1zS4h/mehez6wc+5eAKzbkojMzMxKaJjAIuKg3grEzMysO8rWQtwM+BzQUZxmZR+nYmZmtqLK1kK8EjiH1PrGyy2LxszMrKSyCezFiPhBSyMxMzPrhrIJ7HRJxwHXAi91FkbEij4TzMzMbKWUTWBvAQ4E3s+rlxAj95uZmfW6sgnsI8DmxUeqmJmZtVPZljjuAQa2MA4zM7NuKXsGNhC4X9KtLHsPzNXozcysLcomsONaGoWZmVk3lX0e2B9aHYiZmVl3lG2JYxGp1iHAWkB/4PmIeE2rAjMzM2uk7BnYBp3dkgSMA3ZsVVBmZmbNlK2F+IpIrgQ+2PPhmJmZlVP2EuKHCr1rAKOBF1dmwZJmkx6KuRRYEhGjJQ0Gfk5qNHg2sG9ELMxnfacDewAvABPcCoiZ2eqtbC3E4nPBlpCSy7geWP77IuKpQv8k4IaIOFnSpNx/NLA7MCq/dgDOyu9mZraaKnsPrLeeCzYOGJO7zwemkRLYOOCCiAjgJkkDJQ2PiHm9FJeZma1iGiYwSV9rMDgi4sSVWHYA10oK4EcRMRkYVkhKTwDDcvcI4LHCtHNymROYmdlqqtkZ2PN1ygYABwMbAiuTwHaKiLmSXgdcJ+n+4sCIiJzcSpM0EZgIsMkmm6xEaFZWx6SrlyubffKebYjEzFY3DRNYRJza2S1pA+AI4CDgUuDUrqYrIyLm5vcnJV0BbA/M77w0KGk48GQefS4wsjD5xrmsdp6TgckAo0eP7lbys55TL6mZmfW0ptXoJQ2W9A3gLlLC2y4ijo6IJ5tM2mieA3JCRNIAYCypweApwPg82njg17l7CvAJJTsCz/n+l5nZ6q3ZPbDvAB8indW8JSIW99ByhwFXpNrxrAlcHBG/y40FXybpYOARYN88/lRSFfqZpGr0vVWpxFYxPrszs07N7oEdRWp9/qvAV3LCARDpNtUKNSUVEbOAt9YpfxrYpU55AIeuyLLMzKxvanYPrNstdZiZmfWGsn9kNqss15Q065t8hmVmZpXkBGZmZpXkBGZmZpXkBGZmZpXkBGZmZpXkBGZmZpXkavRmXaitfu+q92arFp+BmZlZJTmBmZlZJfkSoq2WfHnQrPp8BmZmZpXkBGZmZpXkBGZmZpXke2DWLX6gpJmtKnwGZmZmleQEZmZmleQEZmZmleR7YPYK/zfKzKrEZ2BmZlZJTmBmZlZJTmBmZlZJlUlgknaT9ICkmZImtTseMzNrr0pU4pDUDzgT+AAwB7hV0pSIuLe9kVlf4T9om1VPVc7AtgdmRsSsiPgXcCkwrs0xmZlZG1XiDAwYATxW6J8D7NCmWFYbPisxs1VZVRJYKZImAhNz72JJD7RoUUOAp1o071ZxzCtJp5QabZWKuRuqGLdjbo1N2x1AWVVJYHOBkYX+jXPZMiJiMjC51cFImh4Ro1u9nJ7kmHtHFWOGasbtmK0q98BuBUZJ2kzSWsB+wJQ2x2RmZm1UiTOwiFgi6TDgGqAfcG5EzGhzWGZm1kaVSGAAETEVmNruOLKWX6ZsAcfcO6oYM1Qzbse8mlNEtDsGMzOzbqvKPTAzM7NlOIGVIGmwpOskPZjfBzUY9zWS5kg6ozdjrBNH05glbSvpb5JmSLpL0kfbFGvDZsIkrS3p53n4zZI62hBmbUzNYv6CpHvzdr1BUturJpdtjk3Sf0sKSatEbbkycUvaN2/vGZIu7u0Y68TT7PjYRNKNku7Ix8ge7Yiz8iLCryYv4NvApNw9CTilwbinAxcDZ6zqMQNbAqNy90bAPGBgL8fZD3gI2BxYC/g7sFXNOJ8Fzs7d+wE/b/O2LRPz+4D1cvdnqhBzHm8D4I/ATcDodsbcjW09CrgDGJT7X1eBmCcDn8ndWwGz272tq/jyGVg544Dzc/f5wD71RpL0dmAYcG3vhNVQ05gj4h8R8WDufhx4EhjaWwFmZZoJK67LL4BdJKkXY6zVNOaIuDEiXsi9N5H+u9hOZZtjOxE4BXixN4NroEzchwBnRsRCgIh4spdjrFUm5gBek7tfCzzei/H1GU5g5QyLiHm5+wlSklqGpDWAU4Ev9mZgDTSNuUjS9qRfiw+1OrAa9ZoJG9HVOBGxBHgO2LBXoquvTMxFBwO/bWlEzTWNWdJ2wMiIWJXaECuzrbcEtpT0F0k3Sdqt16Krr0zMxwMHSJpDql39ud4JrW+pTDX6VpN0PfD6OoO+UuyJiJBUr+rmZ4GpETGnt04OeiDmzvkMB34GjI+Il3s2ytWbpAOA0cDO7Y6lkfwD7DRgQptDWRFrki4jjiGd6f5R0lsi4tl2BtXE/sB5EXGqpHcCP5O0jT9/3eMElkXErl0NkzRf0vCImJe/7Otdongn8B5JnwXWB9aStDgiWvbssh6IGUmvAa4GvhIRN7Uo1EbKNBPWOc4cSWuSLrk83Tvh1VWqaTNJu5J+TOwcES/1UmxdaRbzBsA2wLT8A+z1wBRJe0fE9F6LcnlltvUc4OaI+DfwsKR/kBLarb0T4nLKxHwwsBtARPxN0jqkdhLbffmzUnwJsZwpwPjcPR74de0IEfHxiNgkIjpIlxEvaGXyKqFpzLlZritIsf6iF2MrKtNMWHFdPgz8PvLd7zZpGrOktwE/AvZeBe7JQJOYI+K5iBgSER35GL6JFHs7kxeUOz6uJJ19IWkI6ZLirF6MsVaZmB8FdgGQ9GZgHWBBr0bZF7S7FkkVXqT7LTcADwLXA4Nz+WjgJ3XGn0D7ayE2jRk4APg3cGfhtW0bYt0D+Afp/ttXctkJpC9QSB/uy4GZwC3A5qvAMdEs5uuB+YXtOmVVj7lm3GmsArUQS25rkS5/3gvcDexXgZi3Av5CqqF4JzC23TFX8eWWOMzMrJJ8CdHMzCrJCczMzCrJCczMzCrJCczMzCrJCczMzCrJCcz6FEmLS4xzpKT1WhzHwPyn9s7+jSS16792Zn2Sq9Fbn5JbP1m/yTizSf9xeqob8+0XEUu7MX4HcFVEbFN2mnbIjSIr3ISRVZDPwKxPkjRG0jRJv5B0v6SLlBxOenTMjZJuzOOOzc9Fu13S5ZLWz+WzJZ0i6XbgI5IOkXSrpL9L+mXnWZykYZKuyOV/l/Qu4GRgC0l3SvqOpA5J9+Tx15H0U0l35+dBvS+XT5D0K0m/U3qO27e7WLeT9eqzxr7bIIbO55Ldk19H5rIOpWdVXQDcA4yU9L953e6S9PVW7RezHtXuf1L75VdPvoDF+X0MqdX6jUk/1P4G7JSHzQaG5O4hpOdfDcj9RwNfK4z3pcK8Nyx0fwP4XO7+OXBk7u5HaquxA7inMP4r/cBRwLm5+02kZoXWIbXgMitPvw7wCKl1+OL6bQg8wKtXTwY2iOHtpJYpBpDa55wBvC3H8jKwYx5/LOn5VMrb6irgve3el3751ezlMzDry26JiDmRLo/dSfrirrUjuVkfSXeS2lwsPj3554XubST9SdLdwMeBrXP5+4GzACJiaUQ81ySunYAL8/j3kxLVlnnYDZHaJXyR1DRS7ZOcnyM9q+scSR8COp85Vi+GnYArIuL5iFgM/Ap4Tx7/kXi18eax+XUHcDspqY5qsg5mbefW6K0vK7YAv5T6x7uA6yJi/y7m8Xyh+zxgn4j4u6QJ5AZke1jDmCNiidKz23YhNWx8GCl5dVdxvQR8KyJ+tALzMWub/w8dQps0TxxhoQAAAABJRU5ErkJggg==' width=432.0/>\n",
       "            </div>\n",
       "        "
      ],
      "text/plain": [
       "Canvas(toolbar=Toolbar(toolitems=[('Home', 'Reset original view', 'home', 'home'), ('Back', 'Back to previous …"
      ]
     },
     "metadata": {},
     "output_type": "display_data"
    }
   ],
   "source": [
    "def scores_indexer(n):\n",
    "    return np.sum(Scores[n],axis=1)\n",
    "\n",
    "fig, ax = plt.subplots(figsize=(6,3))\n",
    "controls = interactive_hist(scores_indexer, n=np.arange(1,48,1), bins=np.arange(-0.5, 1, 0.02))\n",
    "\n",
    "plt.xlabel(\"Interaction score\")\n",
    "plt.ylabel(\"Number of sequences\")\n",
    "\n",
    "plt.title(\"Interaction scores for the top N 'true positive' couplings\")"
   ]
  },
  {
   "cell_type": "code",
   "execution_count": 9,
   "id": "cf5658a8",
   "metadata": {},
   "outputs": [],
   "source": [
    "murA_ali.structures  = {}; lpxC_ali.structures = {}\n",
    "murA_ali.attach_structure('structures/Paeruginosa_lpxC_murA_AF_ranked_1.pdb', 0)\n",
    "lpxC_ali.attach_structure('structures/Paeruginosa_lpxC_murA_AF_ranked_1.pdb', 0)"
   ]
  },
  {
   "cell_type": "code",
   "execution_count": 10,
   "id": "8963a725",
   "metadata": {},
   "outputs": [],
   "source": [
    "complex_structure = pdb.readPDB(\"structures/Paeruginosa_lpxC_murA_AF_ranked_1.pdb\")"
   ]
  },
  {
   "cell_type": "code",
   "execution_count": 11,
   "id": "dad0eca0",
   "metadata": {},
   "outputs": [],
   "source": [
    "inter_distances = []; first_index = 1\n",
    "\n",
    "murA_structure_pos = murA_ali.structures[0][-1]._pdbpos\n",
    "lpxC_structure_pos = lpxC_ali.structures[0][-1]._pdbpos\n",
    "\n",
    "murA_ali_pos = list(murA_ali.structures[0][-1]._alipos)\n",
    "lpxC_ali_pos = list(lpxC_ali.structures[0][-1]._alipos)\n",
    "\n",
    "for nrow,row in init_inter_couplings.iterrows():\n",
    "    try:\n",
    "        pdb_i = murA_structure_pos[murA_ali_pos.index(row[\"i\"])] - first_index\n",
    "        pdb_j = lpxC_structure_pos[lpxC_ali_pos.index(row[\"j\"])] - first_index\n",
    "        \n",
    "        inter_distances.append(complex_structure.distance_matrix()[pdb_i, pdb_j])\n",
    "    except:\n",
    "        #print(row[\"i\"], row[\"j\"])\n",
    "        inter_distances.append(np.nan)\n",
    "        \n",
    "inter_distances = np.array(inter_distances)\n",
    "\n",
    "init_inter_couplings = init_inter_couplings.assign(distance=inter_distances)"
   ]
  },
  {
   "cell_type": "code",
   "execution_count": 12,
   "id": "72e1e5bd",
   "metadata": {},
   "outputs": [
    {
     "data": {
      "text/plain": [
       "Text(24.597222222222214, 0.5, 'CA-CA distance')"
      ]
     },
     "execution_count": 12,
     "metadata": {},
     "output_type": "execute_result"
    }
   ],
   "source": [
    "plt.xlim(0.032,0.07)\n",
    "plt.scatter(init_inter_couplings['cn'], init_inter_couplings['distance'])\n",
    "\n",
    "contacts = init_inter_couplings['distance'] < 9\n",
    "\n",
    "plt.scatter(init_inter_couplings['cn'][contacts], init_inter_couplings['distance'][contacts])\n",
    "\n",
    "plt.axhline(y=8, c='k', linestyle='dashed')\n",
    "\n",
    "plt.xlabel(\"Coupling score (cn)\")\n",
    "plt.ylabel(\"CA-CA distance\")"
   ]
  },
  {
   "cell_type": "code",
   "execution_count": 13,
   "id": "b44a961b",
   "metadata": {},
   "outputs": [],
   "source": [
    "true_positive_hits = np.where(init_inter_couplings['distance'] < 9)[0]"
   ]
  },
  {
   "cell_type": "code",
   "execution_count": 29,
   "id": "9d21b7e2",
   "metadata": {},
   "outputs": [
    {
     "name": "stdout",
     "output_type": "stream",
     "text": [
      "Kept 1 out of 1 pairs and 11782 out of 11834 sequences\n",
      "Kept 2 out of 2 pairs and 11663 out of 11834 sequences\n",
      "Kept 3 out of 3 pairs and 11660 out of 11834 sequences\n",
      "Kept 4 out of 4 pairs and 11659 out of 11834 sequences\n",
      "Kept 5 out of 5 pairs and 11031 out of 11834 sequences\n",
      "Kept 5 out of 6 pairs and 11031 out of 11834 sequences\n",
      "Kept 6 out of 7 pairs and 11028 out of 11834 sequences\n",
      "Kept 7 out of 8 pairs and 11021 out of 11834 sequences\n",
      "Kept 8 out of 9 pairs and 11002 out of 11834 sequences\n",
      "Kept 9 out of 10 pairs and 11001 out of 11834 sequences\n",
      "Kept 9 out of 11 pairs and 11001 out of 11834 sequences\n",
      "Kept 9 out of 12 pairs and 11001 out of 11834 sequences\n",
      "Kept 10 out of 13 pairs and 11001 out of 11834 sequences\n",
      "Kept 10 out of 14 pairs and 11001 out of 11834 sequences\n",
      "Kept 11 out of 15 pairs and 11001 out of 11834 sequences\n",
      "Kept 11 out of 16 pairs and 11001 out of 11834 sequences\n",
      "Kept 12 out of 17 pairs and 11001 out of 11834 sequences\n",
      "Kept 13 out of 18 pairs and 10958 out of 11834 sequences\n",
      "Kept 14 out of 19 pairs and 10957 out of 11834 sequences\n"
     ]
    }
   ],
   "source": [
    "tp_Scores = []; Ks = []; Kp = []\n",
    "\n",
    "for i in range(1, 20):\n",
    "    \n",
    "    s, ks, kp = score_sequences(init_model, murA_ali, lpxC_ali, init_inter_couplings, true_positive_hits[:i])\n",
    "    tp_Scores.append(s)"
   ]
  },
  {
   "cell_type": "code",
   "execution_count": 59,
   "id": "a352020e",
   "metadata": {
    "scrolled": false
   },
   "outputs": [
    {
     "data": {
      "application/vnd.jupyter.widget-view+json": {
       "model_id": "f7f0dc465cc24acfbd6c3c792cad83c5",
       "version_major": 2,
       "version_minor": 0
      },
      "text/plain": [
       "VBox(children=(HBox(children=(IntSlider(value=0, description='n', max=17, readout=False), Label(value='1.00'))…"
      ]
     },
     "metadata": {},
     "output_type": "display_data"
    },
    {
     "data": {
      "text/plain": [
       "Text(0.5, 1.0, \"Interaction scores for the top N 'true positive' couplings\")"
      ]
     },
     "execution_count": 59,
     "metadata": {},
     "output_type": "execute_result"
    },
    {
     "data": {
      "application/vnd.jupyter.widget-view+json": {
       "model_id": "70c9d6b89cd14e11b2d3a41243de4903",
       "version_major": 2,
       "version_minor": 0
      },
      "image/png": "[encoded data removed]",
      "text/html": [
       "\n",
       "            <div style=\"display: inline-block;\">\n",
       "                <div class=\"jupyter-widgets widget-label\" style=\"text-align: center;\">\n",
       "                    Figure\n",
       "                </div>\n",
       "                <img src='data:image/png;base64,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' width=432.0/>\n",
       "            </div>\n",
       "        "
      ],
      "text/plain": [
       "Canvas(toolbar=Toolbar(toolitems=[('Home', 'Reset original view', 'home', 'home'), ('Back', 'Back to previous …"
      ]
     },
     "metadata": {},
     "output_type": "display_data"
    }
   ],
   "source": [
    "%matplotlib ipympl\n",
    "\n",
    "def f(n):\n",
    "    return np.sum(S[n],axis=1)\n",
    "\n",
    "fig, ax = plt.subplots(figsize=(6,3))\n",
    "controls = interactive_hist(f, n=np.arange(1,19,1), bins=np.arange(-0.3, 0.5, 0.02))\n",
    "\n",
    "plt.xlabel(\"Interaction score\")\n",
    "plt.ylabel(\"Number of sequences\")\n",
    "\n",
    "plt.title(\"Interaction scores for the top N 'true positive' couplings\")"
   ]
  },
  {
   "cell_type": "code",
   "execution_count": 45,
   "id": "ca914234",
   "metadata": {},
   "outputs": [
    {
     "name": "stdout",
     "output_type": "stream",
     "text": [
      "Kept 5 out of 5 pairs and 11031 out of 11834 sequences\n"
     ]
    }
   ],
   "source": [
    "scores_tp5, keep_s_tp5, keep_p_tp5 = score_sequences(init_model, \n",
    "                                                     murA_ali,\n",
    "                                                     lpxC_ali, \n",
    "                                                     init_inter_couplings, \n",
    "                                                     true_positive_hits[:5])"
   ]
  },
  {
   "cell_type": "code",
   "execution_count": 33,
   "id": "bf7ccac5",
   "metadata": {},
   "outputs": [
    {
     "data": {
      "image/png": "[encoded data removed]",
      "text/plain": [
       "<Figure size 288x144 with 1 Axes>"
      ]
     },
     "metadata": {
      "needs_background": "light"
     },
     "output_type": "display_data"
    }
   ],
   "source": [
    "%matplotlib inline\n",
    "\n",
    "plt.figure(figsize=(4,2))\n",
    "plt.rcParams['pdf.fonttype'] = 'truetype'\n",
    "\n",
    "sum_s = np.sum(tp_Scores[4],axis=1)\n",
    "\n",
    "plt.hist(sum_s, bins=np.arange(-0.2,0.3,0.015), color='lightgray')\n",
    "plt.hist(sum_s[sum_s>0.1], bins=np.arange(0.1,0.3,0.015), color='red')\n",
    "\n",
    "#plt.axvline(0.1, c='k', ls='dashed', lw=2)\n",
    "\n",
    "plt.axvline(sum_s[0], c='k', ls=\"dashed\")\n",
    "plt.text(0.17, 1250, \"P. aeruginosa\", fontstyle='italic')\n",
    "\n",
    "plt.xlabel(\"Interaction score\")\n",
    "plt.ylabel(\"Number of species\")\n",
    "\n",
    "plt.savefig(\"interaction_score_histogram_v1.pdf\", bbox_inches=\"tight\")"
   ]
  },
  {
   "cell_type": "markdown",
   "id": "deec9563",
   "metadata": {},
   "source": [
    "Now I will actually select these sequences to make new alignments (and annotation files)"
   ]
  },
  {
   "cell_type": "code",
   "execution_count": 58,
   "id": "56aed237",
   "metadata": {},
   "outputs": [
    {
     "name": "stdout",
     "output_type": "stream",
     "text": [
      "Selected positive sequences: 1219 / 11031\n"
     ]
    }
   ],
   "source": [
    "positive_sequences = np.sum(tp_Scores[4], axis=1) > 0.1\n",
    "\n",
    "print(\"Selected positive sequences:\", np.sum(positive_sequences), '/', len(positive_sequences))\n",
    "\n",
    "# Note that a few pairs were 'discarded' during the scoring because they had too many gaps\n",
    "#  therefore I first have to index only with the ones that were able to be scored at all (\"keep_s_tp5\"),\n",
    "#  and then after that index with positive_sequences which tells me which AMONG THOSE has s > 0.1\n",
    "murA_ali_new = murA_ali[keep_s_tp5][positive_sequences]\n",
    "lpxC_ali_new = lpxC_ali[keep_s_tp5][positive_sequences]"
   ]
  },
  {
   "cell_type": "code",
   "execution_count": 51,
   "id": "efdf92a9",
   "metadata": {},
   "outputs": [],
   "source": [
    "murA_annotation = pd.read_csv('annotation/murA_annotation.csv', index_col='id')\n",
    "lpxC_annotation = pd.read_csv('annotation/lpxC_annotation.csv', index_col='id')"
   ]
  },
  {
   "cell_type": "code",
   "execution_count": 55,
   "id": "a9b685f6",
   "metadata": {},
   "outputs": [],
   "source": [
    "murA_annotation.loc[murA_ali_new.ids].to_csv('annotation/murA_tp5_pred_annotation.csv')\n",
    "lpxC_annotation.loc[lpxC_ali_new.ids].to_csv('annotation/lpxC_tp5_pred_annotation.csv')\n",
    "\n",
    "murA_ali_new.save(\"alignments/murA_tp5_pred.fa\")\n",
    "lpxC_ali_new.save(\"alignments/lpxC_tp5_pred.fa\")"
   ]
  },
  {
   "cell_type": "code",
   "execution_count": null,
   "id": "822e12be",
   "metadata": {},
   "outputs": [],
   "source": []
  }
 ],
 "metadata": {
  "kernelspec": {
   "display_name": "sequences",
   "language": "python",
   "name": "sequences"
  },
  "language_info": {
   "codemirror_mode": {
    "name": "ipython",
    "version": 3
   },
   "file_extension": ".py",
   "mimetype": "text/x-python",
   "name": "python",
   "nbconvert_exporter": "python",
   "pygments_lexer": "ipython3",
   "version": "3.10.4"
  }
 },
 "nbformat": 4,
 "nbformat_minor": 5
}
